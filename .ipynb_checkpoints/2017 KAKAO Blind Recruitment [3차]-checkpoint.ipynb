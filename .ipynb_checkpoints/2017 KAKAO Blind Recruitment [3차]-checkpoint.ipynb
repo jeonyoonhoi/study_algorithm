{
 "cells": [
  {
   "cell_type": "markdown",
   "metadata": {},
   "source": [
    "# 방금그곡"
   ]
  },
  {
   "cell_type": "code",
   "execution_count": 2,
   "metadata": {},
   "outputs": [
    {
     "ename": "NameError",
     "evalue": "name 'solution' is not defined",
     "output_type": "error",
     "traceback": [
      "\u001b[1;31m---------------------------------------------------------------------------\u001b[0m",
      "\u001b[1;31mNameError\u001b[0m                                 Traceback (most recent call last)",
      "\u001b[1;32m<ipython-input-2-b55cc48e4ba0>\u001b[0m in \u001b[0;36m<module>\u001b[1;34m()\u001b[0m\n\u001b[0;32m      1\u001b[0m \u001b[0mm\u001b[0m\u001b[1;33m=\u001b[0m\u001b[1;34m'ABCDEFG'\u001b[0m\u001b[1;33m\u001b[0m\u001b[0m\n\u001b[0;32m      2\u001b[0m \u001b[0mmusicinfos\u001b[0m \u001b[1;33m=\u001b[0m \u001b[1;33m[\u001b[0m\u001b[1;34m\"12:00,12:14,HELLO,CDEFGAB\"\u001b[0m\u001b[1;33m,\u001b[0m \u001b[1;34m\"13:00,13:05,WORLD,ABCDEF\"\u001b[0m\u001b[1;33m]\u001b[0m\u001b[1;33m\u001b[0m\u001b[0m\n\u001b[1;32m----> 3\u001b[1;33m \u001b[0msolution\u001b[0m\u001b[1;33m(\u001b[0m\u001b[0mm\u001b[0m\u001b[1;33m,\u001b[0m\u001b[0mmusicinfos\u001b[0m\u001b[1;33m)\u001b[0m\u001b[1;33m\u001b[0m\u001b[0m\n\u001b[0m",
      "\u001b[1;31mNameError\u001b[0m: name 'solution' is not defined"
     ]
    }
   ],
   "source": [
    "m='ABCDEFG'\n",
    "musicinfos = [\"12:00,12:14,HELLO,CDEFGAB\", \"13:00,13:05,WORLD,ABCDEF\"]\n",
    "solution(m,musicinfos)\n"
   ]
  },
  {
   "cell_type": "code",
   "execution_count": 3,
   "metadata": {},
   "outputs": [
    {
     "ename": "NameError",
     "evalue": "name 'solution' is not defined",
     "output_type": "error",
     "traceback": [
      "\u001b[1;31m---------------------------------------------------------------------------\u001b[0m",
      "\u001b[1;31mNameError\u001b[0m                                 Traceback (most recent call last)",
      "\u001b[1;32m<ipython-input-3-077789185bb4>\u001b[0m in \u001b[0;36m<module>\u001b[1;34m()\u001b[0m\n\u001b[1;32m----> 1\u001b[1;33m \u001b[0msolution\u001b[0m\u001b[1;33m(\u001b[0m\u001b[1;34m\"CC#BCC#BCC#BCC#B\"\u001b[0m\u001b[1;33m,\u001b[0m \u001b[1;33m[\u001b[0m\u001b[1;34m\"03:00,03:30,FOO,CC#B\"\u001b[0m\u001b[1;33m,\u001b[0m \u001b[1;34m\"04:00,04:08,BAR,CC#BCC#BCC#B\"\u001b[0m\u001b[1;33m]\u001b[0m\u001b[1;33m)\u001b[0m\u001b[1;33m\u001b[0m\u001b[0m\n\u001b[0m",
      "\u001b[1;31mNameError\u001b[0m: name 'solution' is not defined"
     ]
    }
   ],
   "source": [
    "solution(\"CC#BCC#BCC#BCC#B\", [\"03:00,03:30,FOO,CC#B\", \"04:00,04:08,BAR,CC#BCC#BCC#B\"])\n"
   ]
  },
  {
   "cell_type": "code",
   "execution_count": 100,
   "metadata": {},
   "outputs": [],
   "source": [
    "def solution(m, musicinfos):\n",
    "    answer = ''\n",
    "    \n",
    "    new_li =[]\n",
    "    title_li = []\n",
    "    melody_li = []\n",
    "    time_li = []\n",
    "    for temp in li :\n",
    "        # 일단 분리 \n",
    "        x = temp.split(',')\n",
    "        # 걸리는 분 수 계산\n",
    "        time1 = int(x[0].split(':')[0])*60 + int(x[0].split(':')[1])\n",
    "        time2 = int(x[1].split(':')[0])*60 + int(x[1].split(':')[1])\n",
    "        time = time2-time1\n",
    "        time_li.append(time)\n",
    "        #title = 제목\n",
    "        title_li.append(x[2])\n",
    "\n",
    "        # 노래 한 음씩 잘라서 넣는 리스트 \n",
    "        song_li = []# ['C#', 'D', 'E', 'F', 'G', 'A', 'B']  \n",
    "        for i in range(len(x[3])):\n",
    "            if x[3][i].isalpha():\n",
    "                if i==len(x[3])-1 : #마지막꺼면 무조건 넣고 \n",
    "                    song_li.append(x[3][i]) # 지금꺼만넣구\n",
    "                    break\n",
    "\n",
    "                if x[3][i+1].isalpha(): # 마지막 아니고 그 다음꺼가 알파벳이면\n",
    "                    song_li.append(x[3][i]) # 지금꺼만넣구\n",
    "                else: # 그 다음꺼 알파벳 아니면 #인거니까 \n",
    "                    song_li.append(x[3][i:i+2]) # 지금꺼 + # 도 넣음 \n",
    "        \n",
    "        # 라디오에서 시간만큼 재생된 노래멜로디 \n",
    "        song_len=len(song_li)\n",
    "        if time>song_len: # 시간이 많으면 노래 반복\n",
    "            full_song = song_li * (time//song_len)+song_li[:time%song_len]\n",
    "        elif time<song_len:\n",
    "            full_song = song_li[:time]        \n",
    "        else:\n",
    "            full_song = song_li[:]\n",
    "        melody_li.append(full_song)\n",
    "\n",
    "\n",
    "    m_li = []\n",
    "    for i in range(len(m)):\n",
    "        if i == len(m)-1:\n",
    "            m_li.append(m[i])\n",
    "        elif m[i].isalpha():\n",
    "            if m[i+1].isalpha():\n",
    "                m_li.append(m[i])\n",
    "            else:\n",
    "                m_li.append(m[i:i+2])\n",
    "\n",
    "\n",
    "    same_index_li = []\n",
    "    for i,song in enumerate(melody_li):\n",
    "        # str 이 아니라서 in을 쓰지 못한다. \n",
    "        if m_li in song:\n",
    "            same_index_li.append(i)\n",
    "\n",
    "        for j in range(len(song)-len(m_li)):\n",
    "            if song[j]==m_li[0]:\n",
    "                flag = True\n",
    "                for k in range(len(m_li)):\n",
    "                    if m_li[k]!= song[j+k]:\n",
    "                        flag = False\n",
    "\n",
    "                # 다 돌았는데 같다면\n",
    "                if flag :\n",
    "                    same_index_li.append(i)\n",
    "\n",
    "    if len(same_index_li)>1:\n",
    "        x= title_li[time_li.index(max(time_li))]\n",
    "        return x\n",
    "\n",
    "    elif len(same_index_li)==1:\n",
    "        return title[same_lndex_li[0]]\n",
    "\n",
    "    else :\n",
    "        return '(None)'"
   ]
  },
  {
   "cell_type": "code",
   "execution_count": 101,
   "metadata": {},
   "outputs": [
    {
     "data": {
      "text/plain": [
       "'WORLD'"
      ]
     },
     "execution_count": 101,
     "metadata": {},
     "output_type": "execute_result"
    }
   ],
   "source": [
    "title\n"
   ]
  },
  {
   "cell_type": "code",
   "execution_count": 102,
   "metadata": {},
   "outputs": [
    {
     "data": {
      "text/plain": [
       "'HELLO'"
      ]
     },
     "execution_count": 102,
     "metadata": {},
     "output_type": "execute_result"
    }
   ],
   "source": [
    "title_li[time_li.index((max(time_li)))]"
   ]
  },
  {
   "cell_type": "code",
   "execution_count": 103,
   "metadata": {},
   "outputs": [
    {
     "name": "stdout",
     "output_type": "stream",
     "text": [
      "1111\n"
     ]
    },
    {
     "data": {
      "text/plain": [
       "'HELLO'"
      ]
     },
     "execution_count": 103,
     "metadata": {},
     "output_type": "execute_result"
    }
   ],
   "source": [
    "solution(\"DEFGA\", [\"12:00,12:14,HELLO,C#DEFGAB\", \"13:00,13:05,WORLD,ABCDEF\"])"
   ]
  },
  {
   "cell_type": "markdown",
   "metadata": {},
   "source": [
    "- 조건\n",
    "- 노래가 24시간 이상\n",
    "- 없는 음 "
   ]
  },
  {
   "cell_type": "code",
   "execution_count": null,
   "metadata": {},
   "outputs": [],
   "source": [
    "abc = ['C', 'C#', 'D', 'D#', 'E', 'F', 'F#', 'G', 'G#', 'A', 'A#', 'B' ]"
   ]
  },
  {
   "cell_type": "markdown",
   "metadata": {},
   "source": [
    "전처리 일단 제목을 빼고, \n",
    " "
   ]
  },
  {
   "cell_type": "code",
   "execution_count": 49,
   "metadata": {},
   "outputs": [],
   "source": [
    "li = [\"12:00,12:14,HELLO,CDEFGAB\", \"13:00,13:05,WORLD,ABCDEF\"]"
   ]
  },
  {
   "cell_type": "code",
   "execution_count": 58,
   "metadata": {
    "scrolled": true
   },
   "outputs": [
    {
     "name": "stdout",
     "output_type": "stream",
     "text": [
      "720 734 6\n",
      "CDEFGAB\n",
      "song_li ['C', 'D', 'E', 'F', 'G', 'A', 'B']\n",
      "780 785 7\n",
      "ABCDEF\n",
      "song_li ['A', 'B', 'C', 'D', 'E', 'F']\n",
      "[['C', 'D', 'E', 'F', 'G', 'A', 'B', 'C', 'D', 'E', 'F', 'G', 'A', 'B'], ['A', 'B', 'C', 'D', 'E']]\n"
     ]
    }
   ],
   "source": [
    "new_li =[]\n",
    "title_li = []\n",
    "melody_li = []\n",
    "time_li = []\n",
    "for temp in li :\n",
    "    # 일단 분리 \n",
    "    x = temp.split(',')\n",
    "    \n",
    "    # 걸리는 분 수 계산\n",
    "    time1 = int(x[0].split(':')[0])*60 + int(x[0].split(':')[1])\n",
    "    time2 = int(x[1].split(':')[0])*60 + int(x[1].split(':')[1])\n",
    "    time = time2-time1\n",
    "    time_li.append(time)\n",
    "    print(time1,time2,song_len)\n",
    "    #title = 제목\n",
    "    title_li.append(x[2])\n",
    "    \n",
    "    # 노래 한 음씩 잘라서 넣는 리스트 \n",
    "    song_li = []# ['C#', 'D', 'E', 'F', 'G', 'A', 'B']  \n",
    "    print(x[3])\n",
    "    for i in range(len(x[3])):\n",
    "        if x[3][i].isalpha():\n",
    "            if i==len(x[3])-1 : #마지막꺼면 무조건 넣고 \n",
    "                song_li.append(x[3][i]) # 지금꺼만넣구\n",
    "                break\n",
    "\n",
    "            if x[3][i+1].isalpha(): # 마지막 아니고 그 다음꺼가 알파벳이면\n",
    "                song_li.append(x[3][i]) # 지금꺼만넣구\n",
    "            else: # 그 다음꺼 알파벳 아니면 #인거니까 \n",
    "                song_li.append(x[3][i:i+2]) # 지금꺼 + # 도 넣음 \n",
    "    print(\"song_li\",song_li)  # ['C#', 'D', 'E', 'F', 'G', 'A', 'B']         \n",
    "    \n",
    "    # 라디오에서 시간만큼 재생된 노래멜로디 \n",
    "\n",
    "    song_len=len(song_li)\n",
    "    if time>song_len: # 시간이 많으면 노래 반복\n",
    "        full_song = song_li * (time//song_len)+song_li[:time%song_len]\n",
    "    elif time<song_len:\n",
    "        full_song = song_li[:time]        \n",
    "    else:\n",
    "        full_song = song_li[:]\n",
    "    melody_li.append(full_song)            \n",
    "print(melody_li)\n"
   ]
  },
  {
   "cell_type": "code",
   "execution_count": 68,
   "metadata": {},
   "outputs": [
    {
     "name": "stdout",
     "output_type": "stream",
     "text": [
      "['A', 'B', 'C', 'D', 'E', 'F', 'G']\n",
      "0 ['C', 'D', 'E', 'F', 'G', 'A', 'B', 'C', 'D', 'E', 'F', 'G', 'A', 'B']\n",
      "1 ['A', 'B', 'C', 'D', 'E']\n",
      "[0]\n"
     ]
    }
   ],
   "source": [
    "m_li = []\n",
    "for i in range(len(m)):\n",
    "    if i == len(m)-1:\n",
    "        m_li.append(m[i])\n",
    "    elif m[i].isalpha():\n",
    "        if m[i+1].isalpha():\n",
    "            m_li.append(m[i])\n",
    "        else:\n",
    "            m_li.append(m[i:i+2])\n",
    "\n",
    "print(m_li)\n",
    "\n",
    "same_index_li = []\n",
    "for i,song in enumerate(melody_li):\n",
    "    print(i,song)\n",
    "    # str 이 아니라서 in을 쓰지 못한다. \n",
    "    if m_li in song:\n",
    "        same_index_li.append(i)\n",
    "    \n",
    "    for j in range(len(song)-len(m_li)):\n",
    "        if song[j]==m_li[0]:\n",
    "            flag = True\n",
    "            for k in range(len(m_li)):\n",
    "                if m_li[k]!= song[j+k]:\n",
    "                    flag = False\n",
    "                    \n",
    "            # 다 돌았는데 같다면\n",
    "            if flag :\n",
    "                same_index_li.append(i)\n",
    "        \n",
    "print(same_index_li)\n",
    "        \n",
    "        \n"
   ]
  },
  {
   "cell_type": "markdown",
   "metadata": {},
   "source": [
    "조건이 일치하는 음악이 여러 개일 때에는 라디오에서 재생된 시간이 제일 긴 음악 제목을 반환한다. 재생된 시간도 같을 경우 먼저 입력된 음악 제목을 반환한다.\n"
   ]
  },
  {
   "cell_type": "code",
   "execution_count": null,
   "metadata": {},
   "outputs": [],
   "source": []
  },
  {
   "cell_type": "code",
   "execution_count": 69,
   "metadata": {},
   "outputs": [
    {
     "ename": "SyntaxError",
     "evalue": "'return' outside function (<ipython-input-69-be1288eef393>, line 3)",
     "output_type": "error",
     "traceback": [
      "\u001b[1;36m  File \u001b[1;32m\"<ipython-input-69-be1288eef393>\"\u001b[1;36m, line \u001b[1;32m3\u001b[0m\n\u001b[1;33m    return x\u001b[0m\n\u001b[1;37m    ^\u001b[0m\n\u001b[1;31mSyntaxError\u001b[0m\u001b[1;31m:\u001b[0m 'return' outside function\n"
     ]
    }
   ],
   "source": [
    "if len(same_index_li)>1:\n",
    "    x= title[time_li.index((max(time_li)))]\n",
    "    return x\n",
    "    \n",
    "elif len(same_index_li)==1:\n",
    "    return title[same_lndex_li[0]]\n",
    "\n",
    "else :\n",
    "     return '(None)'"
   ]
  },
  {
   "cell_type": "code",
   "execution_count": 106,
   "metadata": {},
   "outputs": [],
   "source": [
    "def solution(m, musicinfos):\n",
    "    answer = ''\n",
    "    \n",
    "    new_li =[]\n",
    "    title_li = []\n",
    "    melody_li = []\n",
    "    time_li = []\n",
    "    for temp in musicinfos:\n",
    "        # 일단 분리 \n",
    "        x = temp.split(',')\n",
    "        # 걸리는 분 수 계산\n",
    "        time1 = int(x[0].split(':')[0])*60 + int(x[0].split(':')[1])\n",
    "        time2 = int(x[1].split(':')[0])*60 + int(x[1].split(':')[1])\n",
    "        time = time2-time1\n",
    "        time_li.append(time)\n",
    "        #title = 제목\n",
    "        title_li.append(x[2])\n",
    "\n",
    "        # 노래 한 음씩 잘라서 넣는 리스트 \n",
    "        song_li = []# ['C#', 'D', 'E', 'F', 'G', 'A', 'B']  \n",
    "        for i in range(len(x[3])):\n",
    "            if x[3][i].isalpha():\n",
    "                if i==len(x[3])-1 : #마지막꺼면 무조건 넣고 \n",
    "                    song_li.append(x[3][i]) # 지금꺼만넣구\n",
    "                    break\n",
    "\n",
    "                if x[3][i+1].isalpha(): # 마지막 아니고 그 다음꺼가 알파벳이면\n",
    "                    song_li.append(x[3][i]) # 지금꺼만넣구\n",
    "                else: # 그 다음꺼 알파벳 아니면 #인거니까 \n",
    "                    song_li.append(x[3][i:i+2]) # 지금꺼 + # 도 넣음 \n",
    "        \n",
    "        # 라디오에서 시간만큼 재생된 노래멜로디 \n",
    "        song_len=len(song_li)\n",
    "        if time>song_len: # 시간이 많으면 노래 반복\n",
    "            full_song = song_li * (time//song_len)+song_li[:time%song_len]\n",
    "        elif time<song_len:\n",
    "            full_song = song_li[:time]        \n",
    "        else:\n",
    "            full_song = song_li[:]\n",
    "        melody_li.append(full_song)\n",
    "\n",
    "\n",
    "    m_li = []\n",
    "    for i in range(len(m)):\n",
    "        if i == len(m)-1:\n",
    "            m_li.append(m[i])\n",
    "        elif m[i].isalpha():\n",
    "            if m[i+1].isalpha():\n",
    "                m_li.append(m[i])\n",
    "            else:\n",
    "                m_li.append(m[i:i+2])\n",
    "\n",
    "\n",
    "    same_index_li = []\n",
    "    for i,song in enumerate(melody_li):\n",
    "        # str 이 아니라서 in을 쓰지 못한다. \n",
    "        if m_li in song:\n",
    "            same_index_li.append(i)\n",
    "\n",
    "        for j in range(len(song)-len(m_li)):\n",
    "            if song[j]==m_li[0]:\n",
    "                flag = True\n",
    "                for k in range(len(m_li)):\n",
    "                    if m_li[k]!= song[j+k]:\n",
    "                        flag = False\n",
    "\n",
    "                # 다 돌았는데 같다면\n",
    "                if flag :\n",
    "                    same_index_li.append(i)\n",
    "    print(melody_li)\n",
    "    if len(same_index_li)>1:\n",
    "        x= title_li[time_li.index(max(time_li))]\n",
    "        return x\n",
    "\n",
    "    elif len(same_index_li)==1:\n",
    "        return title_li[same_index_li[0]]\n",
    "\n",
    "    else :\n",
    "        return '(None)'"
   ]
  },
  {
   "cell_type": "code",
   "execution_count": 111,
   "metadata": {},
   "outputs": [
    {
     "name": "stdout",
     "output_type": "stream",
     "text": [
      "[['C', 'C#', 'B', 'C', 'C#', 'B', 'C', 'C#'], ['C', 'C#', 'B', 'C', 'C#', 'B', 'C', 'C#']]\n"
     ]
    },
    {
     "data": {
      "text/plain": [
       "'BAR'"
      ]
     },
     "execution_count": 111,
     "metadata": {},
     "output_type": "execute_result"
    }
   ],
   "source": [
    "solution(\"CC#BC\", [\"04:00,04:08,BAR,CC#B\",\"03:00,03:08,FOO,CC#B\"])"
   ]
  },
  {
   "cell_type": "code",
   "execution_count": 114,
   "metadata": {},
   "outputs": [
    {
     "name": "stdout",
     "output_type": "stream",
     "text": [
      "[['C#', 'D', 'E', 'F', 'G', 'A', 'B', 'C#', 'D', 'E', 'F', 'G', 'A', 'B'], ['A', 'B', 'C', 'D', 'E']]\n"
     ]
    },
    {
     "data": {
      "text/plain": [
       "'(None)'"
      ]
     },
     "execution_count": 114,
     "metadata": {},
     "output_type": "execute_result"
    }
   ],
   "source": [
    "solution(\"ABCC\", [\"12:00,12:14,HELLO,C#DEFGAB\", \"13:00,13:05,WORLD,ABCDEF\"])"
   ]
  },
  {
   "cell_type": "code",
   "execution_count": null,
   "metadata": {},
   "outputs": [],
   "source": []
  }
 ],
 "metadata": {
  "kernelspec": {
   "display_name": "Python 3",
   "language": "python",
   "name": "python3"
  },
  "language_info": {
   "codemirror_mode": {
    "name": "ipython",
    "version": 3
   },
   "file_extension": ".py",
   "mimetype": "text/x-python",
   "name": "python",
   "nbconvert_exporter": "python",
   "pygments_lexer": "ipython3",
   "version": "3.6.5"
  }
 },
 "nbformat": 4,
 "nbformat_minor": 2
}

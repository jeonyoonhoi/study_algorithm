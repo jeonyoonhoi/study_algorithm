{
 "cells": [
  {
   "cell_type": "code",
   "execution_count": 17,
   "metadata": {},
   "outputs": [],
   "source": [
    "f = open('sample_input (3).txt','r')\n",
    "test_case = f.readline().split('\\n')[0]\n",
    "\n",
    "Ks = []\n",
    "test = []\n",
    "for i in range(1,int(test_case)+1):\n",
    "    K = int(f.readline()) # (1,20)\n",
    "    A= f.readline().split(' ')[:-1]\n",
    "    B= f.readline().split(' ')[:-1]\n",
    "    C= f.readline().split(' ')[:-1]\n",
    "    D= f.readline().split(' ')[:-1]\n",
    "    way = []\n",
    "    for i in range(K):\n",
    "        x = f.readline()[:-1].split(' ')\n",
    "        way.append([x[0],x[1]])\n",
    "        \n",
    "    "
   ]
  },
  {
   "cell_type": "code",
   "execution_count": 18,
   "metadata": {},
   "outputs": [
    {
     "data": {
      "text/plain": [
       "[['1', '-1'],\n",
       " ['4', '-1'],\n",
       " ['3', '-1'],\n",
       " ['1', '1'],\n",
       " ['4', '1'],\n",
       " ['2', '1'],\n",
       " ['1', '-1'],\n",
       " ['4', '1'],\n",
       " ['2', '-1'],\n",
       " ['4', '-1'],\n",
       " ['1', '1'],\n",
       " ['4', '-1'],\n",
       " ['1', '1'],\n",
       " ['2', '-1'],\n",
       " ['1', '-1'],\n",
       " ['3', '-1'],\n",
       " ['1', '1'],\n",
       " ['2', '1'],\n",
       " ['3', '1'],\n",
       " ['3', '-1']]"
      ]
     },
     "execution_count": 18,
     "metadata": {},
     "output_type": "execute_result"
    }
   ],
   "source": [
    "way\n"
   ]
  },
  {
   "cell_type": "code",
   "execution_count": null,
   "metadata": {},
   "outputs": [],
   "source": [
    "a.extend(b)\n",
    "pop append\n",
    "슬라이싱@"
   ]
  }
 ],
 "metadata": {
  "kernelspec": {
   "display_name": "Python 3",
   "language": "python",
   "name": "python3"
  },
  "language_info": {
   "codemirror_mode": {
    "name": "ipython",
    "version": 3
   },
   "file_extension": ".py",
   "mimetype": "text/x-python",
   "name": "python",
   "nbconvert_exporter": "python",
   "pygments_lexer": "ipython3",
   "version": "3.6.5"
  }
 },
 "nbformat": 4,
 "nbformat_minor": 2
}

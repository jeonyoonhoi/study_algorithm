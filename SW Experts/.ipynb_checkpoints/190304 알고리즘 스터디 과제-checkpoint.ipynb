{
 "cells": [
  {
   "cell_type": "markdown",
   "metadata": {},
   "source": [
    "# 5431 민석이의 과제 체크하기"
   ]
  },
  {
   "cell_type": "code",
   "execution_count": null,
   "metadata": {},
   "outputs": [],
   "source": [
    "\n",
    "T = int(input())\n",
    "# 여러개의 테스트 케이스가 주어지므로, 각각을 처리합니다.\n",
    "for test_case in range(1, T + 1):\n",
    "\n",
    "    # ///////////////////////////////////////////////////////////////////////////////////\n",
    "    # temp_li = f.readline().split(' ')\n",
    "    # N,K = temp_li[0],temp_li[1]\n",
    "    N,K = map(int, input().split())\n",
    " \n",
    "    numbers = input().split(' ')\n",
    "    answer= []\n",
    "    \n",
    "    # 전체  번호 만들기\n",
    "    for j in range(1,int(N)+1):\n",
    "        if  str(j) not in numbers :\n",
    "            answer.append(j) \n",
    "        \n",
    "    answer.sort()\n",
    "\n",
    "    print('#%d '%(test_case),end = '')\n",
    "    for x in answer:\n",
    "        print(x,end= \" \")\n",
    "    print()\n",
    "    \n",
    "    # ///////////////////////////////////////////////////////////////////////////////////\n"
   ]
  },
  {
   "cell_type": "code",
   "execution_count": 11,
   "metadata": {},
   "outputs": [
    {
     "name": "stdout",
     "output_type": "stream",
     "text": [
      " 2 5 3 2 5 3 7 2 4 6\n"
     ]
    },
    {
     "ename": "ValueError",
     "evalue": "invalid literal for int() with base 10: ' 2 5 3 2 5 3 7 2 4 6'",
     "output_type": "error",
     "traceback": [
      "\u001b[1;31m---------------------------------------------------------------------------\u001b[0m",
      "\u001b[1;31mValueError\u001b[0m                                Traceback (most recent call last)",
      "\u001b[1;32m<ipython-input-11-4b9ba51913dd>\u001b[0m in \u001b[0;36m<module>\u001b[1;34m()\u001b[0m\n\u001b[1;32m----> 1\u001b[1;33m \u001b[0mT\u001b[0m \u001b[1;33m=\u001b[0m \u001b[0mint\u001b[0m\u001b[1;33m(\u001b[0m\u001b[0minput\u001b[0m\u001b[1;33m(\u001b[0m\u001b[1;33m)\u001b[0m\u001b[1;33m)\u001b[0m \u001b[1;31m#테스트케이스\u001b[0m\u001b[1;33m\u001b[0m\u001b[0m\n\u001b[0m\u001b[0;32m      2\u001b[0m \u001b[1;32mfor\u001b[0m \u001b[0mtest_case\u001b[0m \u001b[1;32min\u001b[0m \u001b[0mrange\u001b[0m\u001b[1;33m(\u001b[0m\u001b[1;36m1\u001b[0m\u001b[1;33m,\u001b[0m\u001b[0mT\u001b[0m\u001b[1;33m+\u001b[0m\u001b[1;36m1\u001b[0m\u001b[1;33m)\u001b[0m\u001b[1;33m:\u001b[0m\u001b[1;33m\u001b[0m\u001b[0m\n\u001b[0;32m      3\u001b[0m     \u001b[0mN\u001b[0m \u001b[1;33m=\u001b[0m \u001b[0mint\u001b[0m\u001b[1;33m(\u001b[0m\u001b[0minput\u001b[0m\u001b[1;33m(\u001b[0m\u001b[1;33m)\u001b[0m\u001b[1;33m)\u001b[0m \u001b[1;31m# 다음에 N개의 줄이 나온다.\u001b[0m\u001b[1;33m\u001b[0m\u001b[0m\n\u001b[0;32m      4\u001b[0m \u001b[1;33m\u001b[0m\u001b[0m\n\u001b[0;32m      5\u001b[0m     \u001b[0mli\u001b[0m \u001b[1;33m=\u001b[0m \u001b[1;33m[\u001b[0m\u001b[1;33m]\u001b[0m\u001b[1;33m\u001b[0m\u001b[0m\n",
      "\u001b[1;31mValueError\u001b[0m: invalid literal for int() with base 10: ' 2 5 3 2 5 3 7 2 4 6'"
     ]
    }
   ],
   "source": [
    "T = int(input()) #테스트케이스\n",
    "for test_case in range(1,T+1):\n",
    "    N = int(input()) # 다음에 N개의 줄이 나온다. \n",
    "    \n",
    "    li = []\n",
    "    for i in range(1,N+1):\n",
    "        temp= input().split(' ')\n",
    "        li.append([int(k) for k in temp])\n",
    "    \n",
    "    P = int(input())\n",
    "    C = []\n",
    "\n",
    "    for t in range(P):\n",
    "        temp = int(input())\n",
    "        C.append(temp)\n",
    "    \n",
    "    answer = [0 for _ in range(P)]\n",
    "    \n",
    "    for stop in li :\n",
    "        for k in range(stop[0],stop[1]+1):\n",
    "            answer[k-1]+=1\n",
    "    print('#'+str(test_case),end = ' ')\n",
    "    for j in C :\n",
    "        print(answer[j-1], end = ' ')\n",
    "    \n",
    "            \n",
    "    "
   ]
  },
  {
   "cell_type": "raw",
   "metadata": {},
   "source": [
    "# 테스트케이스 input\n",
    "2\n",
    "5 3\n",
    "2 5 3\n",
    "7 2\n",
    "4 6"
   ]
  },
  {
   "cell_type": "markdown",
   "metadata": {},
   "source": [
    "# 6485 삼성시의 버스노선"
   ]
  },
  {
   "cell_type": "code",
   "execution_count": null,
   "metadata": {},
   "outputs": [],
   "source": [
    "T = int(input()) #테스트케이스\n",
    "for test_case in range(1,T+1):\n",
    "    N = int(input()) # 다음에 N개의 줄이 나온다. \n",
    "    \n",
    "    li = []\n",
    "    for i in range(1,N+1):\n",
    "        temp= input().split(' ')\n",
    "        li.append([int(k) for k in temp])\n",
    "\n",
    "    answer = [0 for _ in range(5000)]\n",
    "    \n",
    "    P = int(input())\n",
    "    C = []\n",
    "\n",
    "    for t in range(P):\n",
    "        temp = int(input())\n",
    "        C.append(temp)\n",
    "\n",
    "    \n",
    "    \n",
    "    for stop in li :\n",
    "        for k in range(stop[0],stop[1]+1):\n",
    "            answer[k-1]+=1\n",
    "    print('#'+str(test_case),end = ' ')\n",
    "    for j in C :\n",
    "        print(answer[j-1], end = ' ')\n",
    "\n",
    "    print()\n",
    "            \n",
    "    \n"
   ]
  },
  {
   "cell_type": "raw",
   "metadata": {},
   "source": [
    "\n",
    "1\n",
    "2\n",
    "1 3\n",
    "2 5\n",
    "5\n",
    "1\n",
    "2\n",
    "3\n",
    "4\n",
    "5\t\n",
    "\n",
    "//테스트 케이스 개수\n",
    "//첫 번째 테스트 케이스, N=2\n",
    "// A1 = 1, B1 = 3\n",
    "// A2 = 2, B2 = 5\n",
    "// P = 5\n",
    "// 이하 C1 = 1, C2 = 2, C3 = 3, C4 = 4, C5 = 5\n",
    "\n",
    "\n",
    "\n",
    " "
   ]
  },
  {
   "cell_type": "markdown",
   "metadata": {},
   "source": [
    "# 5789. 현주의 상자 바꾸기 D3\n",
    "\n"
   ]
  },
  {
   "cell_type": "code",
   "execution_count": 10,
   "metadata": {},
   "outputs": [
    {
     "name": "stdout",
     "output_type": "stream",
     "text": [
      "1\n",
      "5 2\n",
      "1 3\n",
      "2 4\n",
      "[1, 2, 2, 2, 0]\n",
      "#1 1 2 2 2 0 \n"
     ]
    }
   ],
   "source": [
    "T = int(input())\n",
    "# 여러개의 테스트 케이스가 주어지므로, 각각을 처리합니다.\n",
    "for test_case in range(1, T + 1):\n",
    "    # ///////////////////////////////////////////////////////////////////////////////////\n",
    " \n",
    "     \n",
    "    N,Q = map(int, input().split(' '))        #정수형 변수 2개 입력 받는 예제 \n",
    "     \n",
    " \n",
    "    answer = [0 for _ in range(N)]\n",
    "     \n",
    "    for i in range(Q):\n",
    "        a,b = map(int,input().split(' '))\n",
    "        for k in range(a-1,b):            \n",
    "            answer[k]=i+1\n",
    "     \n",
    "     \n",
    "    print('#'+str(test_case),end = ' ')\n",
    "    for j in answer :\n",
    "        print(j,end = ' ')\n",
    "    print()\n",
    "     \n",
    "    # ///////////////////////////////////////////////////////////////////////////////////"
   ]
  },
  {
   "cell_type": "raw",
   "metadata": {},
   "source": [
    "\n",
    "1\n",
    "5 2\n",
    "1 3\n",
    "2 4"
   ]
  }
 ],
 "metadata": {
  "kernelspec": {
   "display_name": "Python 3",
   "language": "python",
   "name": "python3"
  },
  "language_info": {
   "codemirror_mode": {
    "name": "ipython",
    "version": 3
   },
   "file_extension": ".py",
   "mimetype": "text/x-python",
   "name": "python",
   "nbconvert_exporter": "python",
   "pygments_lexer": "ipython3",
   "version": "3.6.5"
  }
 },
 "nbformat": 4,
 "nbformat_minor": 2
}

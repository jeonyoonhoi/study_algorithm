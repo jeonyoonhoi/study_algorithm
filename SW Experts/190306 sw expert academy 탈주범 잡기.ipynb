{
 "cells": [
  {
   "cell_type": "markdown",
   "metadata": {},
   "source": [
    "# 파이프"
   ]
  },
  {
   "cell_type": "markdown",
   "metadata": {},
   "source": [
    "##### 너비우선탐색(BFS)의 특징\n",
    "- 직관적이지 않은 면이 있다. \n",
    "- 재귀적으로 동작하지 않는다. \n",
    "- 어떤 노드를 방문했는지여부를 검사해야한다. 반드시\n",
    "- 그렇지 않으면 무한루프에 빠질 위험이 있다. \n",
    "- bfs는 방문한 노듣들을 차례로 저장한 후 꺼낼 수있는 자료구조인 Queue 를 사용한다. \n",
    "- FIFO원칙으로 탐색\n",
    "- 큐를 이용하여 반복적 형태로 구현하는 것이 가장 잘 동작한다. \n",
    "- Prim, Dijkstra 알고리즘과 유사하다 \n"
   ]
  },
  {
   "cell_type": "markdown",
   "metadata": {},
   "source": [
    "## 너비우선탐색의 과정\n",
    "- 깊이가 1인 모든 노드를 방문하고 나서 그 다음에는 깊이가 2인 모든 노드를, 그 다음에는 싶이가 3인 모든 노드를 방문하는 식으로 계속 방문하다가 더 이상 방문할 곳이 없으면 탐색을 마친다. \n",
    "\n",
    "#### 시작노드를 방문한다.\n",
    "- 큐에 방문된 노드를 삽입 enqueue\n",
    "- 초기 상태의 큐에는 시작 노드만이 저장\n",
    "(즉, a노드의 이웃 노드를 모두 방문한 다음에 이웃의 이웃들을 방문한다. )\n",
    "\n",
    "\n",
    "#### 큐에서 꺼낸 노드와 인접한 노드들을 모두 차례로 방문한다. \n",
    "- 큐에서 꺼낸 노드를 방문한다. 큐에서 꺼낸 노드와 인접한 노드들을 모두 방문한다. \n",
    "(인접한 노드가 없다면, 움직일 수 없다면 큐의 앞에서 노드를 꺼낸다. dequeue)\n",
    "- 큐에서 꺼낸 노드와 인접한 노드들을 모두 방문한다. \n",
    "- 큐에 방문된 노드를 삽입(enqueue)한다. \n",
    "\n",
    "\n",
    "#### 큐가 소진될 떄까지 계속한다. "
   ]
  },
  {
   "cell_type": "code",
   "execution_count": 1,
   "metadata": {},
   "outputs": [],
   "source": [
    "visited = []"
   ]
  },
  {
   "cell_type": "code",
   "execution_count": 3,
   "metadata": {},
   "outputs": [
    {
     "name": "stdout",
     "output_type": "stream",
     "text": [
      "True\n"
     ]
    }
   ],
   "source": [
    "visited.append([1,2])\n",
    "\n",
    "x = [1,2]\n",
    "if x in visited:\n",
    "    print(True)"
   ]
  },
  {
   "cell_type": "code",
   "execution_count": null,
   "metadata": {
    "scrolled": true
   },
   "outputs": [
    {
     "name": "stdout",
     "output_type": "stream",
     "text": [
      "1\n"
     ]
    }
   ],
   "source": [
    "T = int(input())\n",
    "for test_case in range(1,T+1):\n",
    "    N,M,R,C,L = input().split(' ') # 받을때 str로 받아짐\n",
    "    N,M,R,C,L =int(N),int(M),int(R),int(C),int(L)\n",
    "    #print(N,M,R,C,L)\n",
    "    arr = []\n",
    "    \n",
    "    # N : 세로 크기 i, M : 가로크기 : j\n",
    "    # R ; 세로위치(0,N-1) C : 가로위치(0,M-1)\n",
    "    # L : 탈출 후 소요된 시간 L (1,20)\n",
    "\n",
    "    for i in range(int(N)):\n",
    "        arr.append([int(a) for a in list(input().split())])\n",
    "    print(arr) \n",
    "    \n",
    "    ################## 입력부 ###################\n",
    "    \n",
    "    global visited\n",
    "    visited = [] # 방문했던 노드 쌓음\n",
    "    queue = []\n",
    "    queue.append([R,C])\n",
    "    visited.append([R,C])\n",
    "    print(queue)\n",
    "    answer = 1\n",
    "    end = [R,C]\n",
    "    \n",
    "    \n",
    "    while(len(queue)!=0 and L>1):\n",
    "        #visited[0]에 연결된 노드로 간닷\n",
    "        #갈 수 있는 노드가 없으면 pop하고\n",
    "        # 만약 pop하는 애가 point 면 \n",
    "        # time -=1 해주고, (한 층 끝났으면 한타임 줄어듦)\n",
    "        # point에는 현재 queue 의 제일 마지막\n",
    "        #연결된 노드들을 visited 에 넣어준다\n",
    "        i = queue[0][0]\n",
    "        j = queue[0][1]\n",
    "        val =  arr[i][j]\n",
    "        \n",
    "        \n",
    "        \n",
    "        if j>0 and check(i,j,'L'):\n",
    "            print('L')\n",
    "            queue.append([i,j-1]) # 큐에 넣어준다. \n",
    "            arr[i][j-1]==-1 # 이미 방문했으면 -1\n",
    "            answer+=1\n",
    "                \n",
    "        if j<M-1 and check(i,j,'R'):\n",
    "            print('R')\n",
    "            queue.append([i,j+1])\n",
    "            arr[i][j+1]==-1\n",
    "            answer+=1\n",
    "            \n",
    "        if i>0 and check(i,j,'T'):\n",
    "            print('T')\n",
    "            queue.append([i+1,j])\n",
    "            arr[i+1][j]==-1 # 이미 방문했으면 -1\n",
    "            answer+=1\n",
    "                \n",
    "        if i<N-1 and check(i,j,'D'):\n",
    "            print('D')\n",
    "            queue.append([i-1,j])\n",
    "            arr[i-1][j]==-1\n",
    "            answer+=1\n",
    "            \n",
    "        print('before end',end)\n",
    "        print('이때는',queue)\n",
    "        if queue.pop(0)==end: #빼면서 확인\n",
    "            print('시간 줄어 든당',L)\n",
    "            \n",
    "            L-=1 #하이트 끝이였으니까 시간 줄어들고 \n",
    "            end = queue[len(queue)-1]\n",
    "        print('after end',queue)    \n",
    "    \n",
    "    ############### ### 출력부 ###################\n",
    "    #answer = 0\n",
    "    #for temp in arr:\n",
    "    #    answer+= temp.count(-1)\n",
    "    #print(checkarr)\n",
    "    print('#'+str(test_case)+' '+str(answer))\n",
    "    \n",
    "    "
   ]
  },
  {
   "cell_type": "code",
   "execution_count": null,
   "metadata": {},
   "outputs": [],
   "source": [
    "arr"
   ]
  },
  {
   "cell_type": "code",
   "execution_count": null,
   "metadata": {},
   "outputs": [],
   "source": [
    "5 6 2 2 6      \n",
    "3 0 0 0 0 3\n",
    "2 0 0 0 0 6\n",
    "1 3 1 1 3 1\n",
    "2 0 2 0 0 2\n",
    "0 0 4 3 1 1\n",
    "\n",
    "\n",
    "5 6 2 1 3\n",
    "0 0 5 3 6 0\n",
    "0 0 2 0 2 0\n",
    "3 3 1 3 7 0\n",
    "0 0 0 0 0 0\n",
    "0 0 0 0 0 0"
   ]
  },
  {
   "cell_type": "code",
   "execution_count": 9,
   "metadata": {},
   "outputs": [
    {
     "name": "stdout",
     "output_type": "stream",
     "text": [
      "True\n"
     ]
    }
   ],
   "source": [
    "a = [1,2]\n",
    "b = [1,2]\n",
    "c = [2,1]\n",
    "if a==b:\n",
    "    print(True)\n",
    "if a==c:\n",
    "    print(False)"
   ]
  },
  {
   "cell_type": "code",
   "execution_count": 1,
   "metadata": {},
   "outputs": [],
   "source": [
    "# 지금 칸이 다음과연결되어있고\n",
    "# 다음 칸으로 next칸으로 갈 수 있는지만 확인!\n",
    "# 확인하고싶은 칸의 인덱스와 확인하고싶은 next방향 \n",
    "def check(i,j,next):\n",
    "    global visited\n",
    "    \n",
    "    print('i,j,next,check함수 호출',i,j,next)\n",
    "    top = [1,2,4,5]\n",
    "    down = [1,2,4,7]\n",
    "    left = [1,3,4,5]\n",
    "    right = [1,3,6,7]\n",
    "    \n",
    "    \n",
    "    \n",
    "    if next == 'T':\n",
    "        answer = True if (arr[i][j] in down and arr[i-1][j] in top and [i-1,j] not in visited ) else False;\n",
    "    elif next =='D':\n",
    "        answer = True if (arr[i][j] in top and arr[i+1][j] in down and [i+1,j] not in visited) else False\n",
    "    elif next =='L':\n",
    "        answer = True if (arr[i][j] in right and arr[i][j-1] in left and [i,j-1] not in visited) else False\n",
    "    elif next =='R':  \n",
    "        answer = True if (arr[i][j] in left and arr[i][j+1] in right and [i,j+1] not in visited) else False\n",
    "    \n",
    "    print(answer)\n",
    "    return answer\n",
    "    "
   ]
  },
  {
   "cell_type": "code",
   "execution_count": 1,
   "metadata": {},
   "outputs": [],
   "source": [
    "def move(R,C,before):\n",
    "    global time\n",
    "    global checkarr\n",
    "    \n",
    "    print('R<C<BEFORE<TIME move함수 호출',R,C,before,time)\n",
    "    if time <=0:\n",
    "        return \n",
    "    val = arr[R][C]\n",
    "    checkarr[R][C] ==-1\n",
    "    if val ==1:\n",
    "        if before !='top' and check(R,C,'top'):\n",
    "            move(R,C,'top')\n",
    "        if before!= 'down' and check(R,C,'down'):\n",
    "            move(R,C,'down')\n",
    "        if before!='left' and check(R,C,'left'):\n",
    "            move(R,C,'left')\n",
    "        if before!='right' and check(R,C,'right'):\n",
    "            move(R,C,'right')\n",
    "            \n",
    "    elif val ==2: #상,하\n",
    "        if before !='down': #아래 칸에서 온 것\n",
    "            if check(R,C,'top'): move(R,C,'top') \n",
    "                \n",
    "        else :# before =='down' #위에서 내려온 것\n",
    "            if check(R,C,'down'):move(R,C,'down')\n",
    "    \n",
    "    elif val ==3 : #좌, 우\n",
    "        if before =='left':\n",
    "            if check(R,C,'left'):move(R,C,'left') \n",
    "        else :\n",
    "            if check(R,C,'right'):move(R,C,'right') \n",
    "    \n",
    "    elif val ==4: #상, 우\n",
    "        if before =='down':\n",
    "            if check(R,C,'right'): move(R,C,'right') \n",
    "        else : #이전블록이 오른쪽에 있으면 위로\n",
    "            if check(R,C,'top') : move(R,C,'top') \n",
    "            \n",
    "    elif val ==5: # 하, 우\n",
    "        if before == 'top': \n",
    "            if check(R,C,'right') : move(R,C,'right')\n",
    "        else : \n",
    "            if check(R,C,'down') :move(R,C,'down') \n",
    "            \n",
    "    elif val ==6: #하, 좌\n",
    "        if before == 'top': \n",
    "            if check(R,C,'left') :move(R,C,'left') \n",
    "        else : \n",
    "            if check(R,C,'down') : move(R,C,'down') \n",
    "            \n",
    "    elif val ==6: #하, 좌\n",
    "        if before == 'down': \n",
    "            if check(R,C,'left') : move(R,C,'left') \n",
    "        else : \n",
    "            if check(R,C,'top') : move(R,C,'top') \n",
    "        \n",
    "    else : #val==0\n",
    "        return 0"
   ]
  },
  {
   "cell_type": "markdown",
   "metadata": {},
   "source": [
    "다시~~"
   ]
  },
  {
   "cell_type": "code",
   "execution_count": null,
   "metadata": {},
   "outputs": [],
   "source": []
  }
 ],
 "metadata": {
  "kernelspec": {
   "display_name": "Python 3",
   "language": "python",
   "name": "python3"
  },
  "language_info": {
   "codemirror_mode": {
    "name": "ipython",
    "version": 3
   },
   "file_extension": ".py",
   "mimetype": "text/x-python",
   "name": "python",
   "nbconvert_exporter": "python",
   "pygments_lexer": "ipython3",
   "version": "3.6.5"
  }
 },
 "nbformat": 4,
 "nbformat_minor": 2
}

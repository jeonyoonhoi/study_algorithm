{
 "cells": [
  {
   "cell_type": "code",
   "execution_count": 1,
   "metadata": {},
   "outputs": [
    {
     "name": "stdout",
     "output_type": "stream",
     "text": [
      "10\n"
     ]
    }
   ],
   "source": [
    "f = open(\"sample_input.txt\", 'r')\n",
    "test_case =f.readline().split('\\n')[0]\n",
    "print(test_case)\n",
    "test = []\n",
    "for i in range(1,int(test_case)+1):\n",
    "    N = int(f.readline())\n",
    "    li = []\n",
    "    for j in range(N):\n",
    "        temp = f.readline()[:2*N-1].split(' ')\n",
    "        temp2 = [int(a) for a in temp]\n",
    "        li.append(temp2)\n",
    "\n",
    "    test.append(li)\n",
    "f.close()"
   ]
  },
  {
   "cell_type": "code",
   "execution_count": 2,
   "metadata": {},
   "outputs": [
    {
     "data": {
      "text/plain": [
       "[[[0, 1, 1, 0, 0],\n",
       "  [0, 0, 1, 0, 3],\n",
       "  [0, 1, 0, 1, 0],\n",
       "  [0, 0, 0, 0, 0],\n",
       "  [1, 0, 5, 0, 0]],\n",
       " [[0, 0, 1, 1, 0],\n",
       "  [0, 0, 1, 0, 2],\n",
       "  [0, 0, 0, 1, 0],\n",
       "  [0, 1, 0, 0, 0],\n",
       "  [1, 0, 5, 0, 0]],\n",
       " [[0, 0, 0, 1, 0, 0],\n",
       "  [0, 0, 0, 0, 0, 0],\n",
       "  [0, 0, 0, 0, 0, 0],\n",
       "  [0, 1, 0, 0, 0, 0],\n",
       "  [2, 0, 1, 0, 0, 0],\n",
       "  [0, 0, 2, 0, 0, 0]],\n",
       " [[0, 0, 0, 0, 0, 0],\n",
       "  [0, 0, 0, 0, 0, 0],\n",
       "  [0, 0, 0, 0, 0, 0],\n",
       "  [0, 0, 0, 0, 0, 0],\n",
       "  [1, 0, 0, 0, 0, 0],\n",
       "  [0, 0, 0, 2, 0, 4]],\n",
       " [[0, 0, 0, 0, 0, 0, 0],\n",
       "  [0, 0, 0, 0, 0, 0, 4],\n",
       "  [0, 0, 0, 0, 1, 0, 0],\n",
       "  [1, 0, 0, 1, 0, 0, 0],\n",
       "  [0, 0, 0, 0, 0, 0, 0],\n",
       "  [0, 0, 0, 0, 0, 0, 0],\n",
       "  [0, 2, 0, 0, 0, 0, 0]],\n",
       " [[0, 0, 0, 0, 0, 0, 0],\n",
       "  [7, 0, 0, 0, 0, 0, 0],\n",
       "  [0, 0, 0, 0, 0, 0, 0],\n",
       "  [0, 0, 0, 0, 0, 0, 0],\n",
       "  [0, 0, 0, 0, 0, 0, 0],\n",
       "  [2, 0, 0, 0, 0, 1, 0],\n",
       "  [0, 0, 0, 0, 0, 0, 0]],\n",
       " [[0, 0, 0, 0, 0, 0, 0, 0],\n",
       "  [0, 0, 0, 0, 0, 0, 0, 2],\n",
       "  [0, 0, 0, 0, 0, 0, 0, 0],\n",
       "  [2, 0, 0, 0, 0, 0, 0, 0],\n",
       "  [0, 0, 0, 0, 0, 1, 0, 0],\n",
       "  [0, 0, 0, 0, 0, 0, 0, 0],\n",
       "  [0, 0, 0, 0, 0, 0, 1, 0],\n",
       "  [0, 0, 0, 0, 1, 0, 0, 0]],\n",
       " [[3, 0, 0, 0, 0, 0, 5, 0],\n",
       "  [0, 0, 0, 0, 0, 0, 0, 0],\n",
       "  [1, 0, 0, 0, 0, 0, 0, 0],\n",
       "  [0, 0, 0, 0, 0, 0, 0, 0],\n",
       "  [1, 0, 1, 1, 0, 0, 0, 0],\n",
       "  [0, 0, 0, 0, 0, 0, 1, 0],\n",
       "  [0, 0, 0, 0, 0, 0, 0, 0],\n",
       "  [0, 0, 0, 0, 0, 0, 0, 0]],\n",
       " [[0, 0, 0, 1, 0, 0, 0, 0, 0],\n",
       "  [0, 1, 0, 0, 0, 0, 0, 0, 0],\n",
       "  [0, 0, 0, 0, 0, 0, 0, 0, 8],\n",
       "  [7, 0, 0, 0, 0, 1, 0, 0, 0],\n",
       "  [0, 0, 0, 0, 0, 1, 1, 0, 0],\n",
       "  [0, 0, 0, 0, 0, 0, 0, 0, 0],\n",
       "  [1, 0, 0, 0, 0, 1, 0, 0, 0],\n",
       "  [0, 0, 0, 0, 0, 0, 0, 0, 0],\n",
       "  [0, 0, 0, 0, 0, 0, 0, 0, 0]],\n",
       " [[0, 0, 0, 0, 0, 0, 0, 0, 0, 0],\n",
       "  [0, 0, 0, 0, 1, 0, 0, 0, 0, 0],\n",
       "  [0, 0, 1, 0, 0, 0, 0, 0, 0, 0],\n",
       "  [0, 0, 0, 0, 0, 0, 0, 0, 0, 0],\n",
       "  [0, 0, 0, 0, 0, 0, 0, 0, 0, 0],\n",
       "  [3, 0, 1, 0, 1, 0, 0, 0, 0, 2],\n",
       "  [1, 1, 0, 0, 1, 0, 1, 0, 0, 0],\n",
       "  [0, 0, 0, 0, 0, 0, 0, 0, 0, 0],\n",
       "  [0, 0, 0, 0, 0, 0, 0, 0, 0, 0],\n",
       "  [0, 0, 0, 0, 0, 0, 0, 0, 0, 0]]]"
      ]
     },
     "execution_count": 2,
     "metadata": {},
     "output_type": "execute_result"
    }
   ],
   "source": [
    "test"
   ]
  },
  {
   "cell_type": "code",
   "execution_count": 3,
   "metadata": {},
   "outputs": [
    {
     "data": {
      "text/plain": [
       "[[0, 1, 1, 0, 0],\n",
       " [0, 0, 1, 0, 3],\n",
       " [0, 1, 0, 1, 0],\n",
       " [0, 0, 0, 0, 0],\n",
       " [1, 0, 5, 0, 0]]"
      ]
     },
     "execution_count": 3,
     "metadata": {},
     "output_type": "execute_result"
    }
   ],
   "source": [
    "room=test[0]\n",
    "N = len(room)\n",
    "room"
   ]
  },
  {
   "cell_type": "code",
   "execution_count": 7,
   "metadata": {
    "scrolled": true
   },
   "outputs": [
    {
     "name": "stdout",
     "output_type": "stream",
     "text": [
      "[[0, 1], [0, 2], [1, 2], [2, 1], [2, 3], [4, 0]]\n",
      "[[1, 4, 3], [4, 2, 5]]\n"
     ]
    }
   ],
   "source": [
    "people = []\n",
    "stair = []\n",
    "for i,row in enumerate(room) :\n",
    "    for j,x in enumerate(row) : \n",
    "        if x == 1 : #사람\n",
    "            people.append([i,j])\n",
    "        elif x!=0:\n",
    "            stair.append([i,j,x]) #인덱스랑 내려가는데 걸리는 시간\n",
    "print(people)\n",
    "print(stair)\n",
    "\n",
    "to_0 = [] # 계단 까지 도착시간 \n",
    "to_1 = [] #계단 1 까지 도착시간\n",
    "\n",
    "for peo in people :\n",
    "    time0 = 1+abs(stair[0][0]-peo[0])+abs(stair[0][1]-peo[1])\n",
    "    time1 = 1+abs(stair[1][0]-peo[0])+abs(stair[1][1]-peo[1])\n",
    "    to_0.append(time0)\n",
    "    to_1.append(time1)\n"
   ]
  },
  {
   "cell_type": "code",
   "execution_count": 8,
   "metadata": {
    "scrolled": true
   },
   "outputs": [
    {
     "name": "stdout",
     "output_type": "stream",
     "text": [
      "[5, 4, 3, 5, 3, 8]\n",
      "[6, 5, 4, 4, 4, 3]\n",
      "[[0, 1, 1, 0, 0], [0, 0, 1, 0, 3], [0, 1, 0, 1, 0], [0, 0, 0, 0, 0], [1, 0, 5, 0, 0]]\n",
      "[[1, 4, 3], [4, 2, 5]]\n"
     ]
    }
   ],
   "source": [
    "print(to_0)\n",
    "print(to_1)\n",
    "print(room)\n",
    "print(stair)"
   ]
  },
  {
   "cell_type": "code",
   "execution_count": 15,
   "metadata": {},
   "outputs": [
    {
     "name": "stdout",
     "output_type": "stream",
     "text": [
      "[5, 6]\n",
      "[4, 5]\n",
      "[3, 4]\n",
      "[5, 4]\n",
      "[3, 4]\n",
      "[8, 3]\n"
     ]
    }
   ],
   "source": [
    "new =[]\n",
    "end = []\n",
    "for x,y in zip(to_0,to_1):\n",
    "    print([x,y])\n",
    "    new.append([x,y])\n",
    "    end.append([x+to_0[2],y+to_1[2]])"
   ]
  },
  {
   "cell_type": "code",
   "execution_count": 12,
   "metadata": {},
   "outputs": [
    {
     "data": {
      "text/plain": [
       "[[3, 4], [3, 4], [4, 5], [5, 4], [5, 6], [8, 3]]"
      ]
     },
     "execution_count": 12,
     "metadata": {},
     "output_type": "execute_result"
    }
   ],
   "source": [
    "new"
   ]
  },
  {
   "cell_type": "code",
   "execution_count": 16,
   "metadata": {},
   "outputs": [
    {
     "data": {
      "text/plain": [
       "[[8, 10], [7, 9], [6, 8], [8, 8], [6, 8], [11, 7]]"
      ]
     },
     "execution_count": 16,
     "metadata": {},
     "output_type": "execute_result"
    }
   ],
   "source": [
    "end"
   ]
  },
  {
   "cell_type": "code",
   "execution_count": 11,
   "metadata": {},
   "outputs": [],
   "source": [
    "sorted_index = []\n",
    "new.sort()\n"
   ]
  },
  {
   "cell_type": "code",
   "execution_count": 39,
   "metadata": {},
   "outputs": [],
   "source": [
    "s1 = [] # 3min\n",
    "s2 = [] # 5min"
   ]
  },
  {
   "cell_type": "code",
   "execution_count": null,
   "metadata": {},
   "outputs": [],
   "source": [
    "while len(new)!=0 :\n",
    "    \n",
    "    check = new.pop()\n"
   ]
  },
  {
   "cell_type": "code",
   "execution_count": null,
   "metadata": {},
   "outputs": [],
   "source": [
    "from itertools import count, izip\n",
    "for number,letter inn izip(count(0,10),['a','b','c','d','e']):\n",
    "    print('{0}:{1}'.format(number,letter))"
   ]
  },
  {
   "cell_type": "markdown",
   "metadata": {},
   "source": [
    "1. stair 1, 2 로 걸리는데 걸리는 시간 점별로 "
   ]
  },
  {
   "cell_type": "code",
   "execution_count": null,
   "metadata": {},
   "outputs": [],
   "source": []
  },
  {
   "cell_type": "code",
   "execution_count": null,
   "metadata": {},
   "outputs": [],
   "source": []
  }
 ],
 "metadata": {
  "kernelspec": {
   "display_name": "Python 3",
   "language": "python",
   "name": "python3"
  },
  "language_info": {
   "codemirror_mode": {
    "name": "ipython",
    "version": 3
   },
   "file_extension": ".py",
   "mimetype": "text/x-python",
   "name": "python",
   "nbconvert_exporter": "python",
   "pygments_lexer": "ipython3",
   "version": "3.6.5"
  }
 },
 "nbformat": 4,
 "nbformat_minor": 2
}

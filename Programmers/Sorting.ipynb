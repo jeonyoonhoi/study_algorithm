{
 "cells": [
  {
   "cell_type": "markdown",
   "metadata": {},
   "source": [
    "#### K 번째 수"
   ]
  },
  {
   "cell_type": "code",
   "execution_count": 10,
   "metadata": {},
   "outputs": [],
   "source": [
    "array = [1, 5, 2, 6, 3, 7, 4]\n",
    "commands = [[2, 5, 3], [4, 4, 1], [1, 7, 3]]\n",
    "answer =[]"
   ]
  },
  {
   "cell_type": "code",
   "execution_count": 11,
   "metadata": {},
   "outputs": [
    {
     "name": "stdout",
     "output_type": "stream",
     "text": [
      "[2, 5, 3] 2 5 3\n",
      "[2, 3, 5, 6]\n",
      "[5]\n",
      "[4, 4, 1] 4 4 1\n",
      "[6]\n",
      "[5, 6]\n",
      "[1, 7, 3] 1 7 3\n",
      "[1, 2, 3, 4, 5, 6, 7]\n",
      "[5, 6, 3]\n"
     ]
    }
   ],
   "source": [
    "for com in commands :\n",
    "    new = array[com[0]-1:com[1]]\n",
    "    new.sort()\n",
    "    answer.append(new[com[2]-1])"
   ]
  },
  {
   "cell_type": "code",
   "execution_count": null,
   "metadata": {},
   "outputs": [],
   "source": [
    "answer = list(map(lambda x:sorted(array[x[0]-1:x[1]])[x[2]-1], commands))\n"
   ]
  },
  {
   "cell_type": "code",
   "execution_count": 12,
   "metadata": {},
   "outputs": [],
   "source": [
    "def solution(array, commands):\n",
    "    answer = []\n",
    "\n",
    "    for i in commands:\n",
    "        temp = array[i[0]-1:i[1]]\n",
    "        temp.sort()\n",
    "        answer.append(temp[i[2]-1])\n",
    "\n",
    "    return answer"
   ]
  },
  {
   "cell_type": "markdown",
   "metadata": {},
   "source": [
    "#### 가장큰수"
   ]
  },
  {
   "cell_type": "code",
   "execution_count": 26,
   "metadata": {},
   "outputs": [],
   "source": [
    "def solution(numbers):\n",
    "\n",
    "    answer = ''.join([str(i) for i in numbers].sort(reverse = True))\n",
    "    \n",
    "    return answer"
   ]
  },
  {
   "cell_type": "code",
   "execution_count": 27,
   "metadata": {},
   "outputs": [
    {
     "name": "stdout",
     "output_type": "stream",
     "text": [
      "['3', '30', '34', '5', '9']\n",
      "['9', '5', '34', '30', '3']\n",
      "9534303\n"
     ]
    }
   ],
   "source": [
    "numbers = [3, 30, 34, 5, 9]\n",
    "numbers = [str(i) for i in numbers]\n",
    "numbers\n",
    "#numbers = map(str,numbers)\n",
    "print(list(numbers))\n",
    "\n",
    "numbers.sort(reverse = True)\n",
    "print(numbers)\n",
    "print(''.join(numbers))\n"
   ]
  },
  {
   "cell_type": "code",
   "execution_count": 28,
   "metadata": {},
   "outputs": [
    {
     "name": "stdout",
     "output_type": "stream",
     "text": [
      "['3', '30', '34', '5', '9']\n",
      "['30', '3', '34', '5', '9']\n",
      "['30', '3', '34', '5', '9']\n",
      "['30', '34', '3', '5', '9']\n",
      "['30', '34', '3', '5', '9']\n",
      "['30', '34', '5', '3', '9']\n",
      "['30', '34', '5', '3', '9']\n",
      "['30', '34', '5', '9', '3']\n",
      "['30', '34', '5', '9', '3']\n",
      "['30', '5', '34', '9', '3']\n",
      "['30', '5', '34', '9', '3']\n",
      "['30', '5', '9', '34', '3']\n"
     ]
    }
   ],
   "source": [
    "numbers = [3, 30, 34, 5, 9]\n",
    "numbers = [str(i) for i in numbers]\n",
    "    \n",
    "for i in range(len(numbers)-1) : \n",
    "    for j in range(len(numbers)-1,1,-1):\n",
    "        if numbers[j]>numbers[j-1]:\n",
    "            numbers[j],numbers[j-1]=numbers[j-1],numbers[j]\n",
    "                   \n",
    "        elif numbers[j]<numbers[j-1]:\n",
    "            continue\n",
    "        else : #3,30,31,34 이런거\n",
    "            if number[j]\n",
    "                "
   ]
  },
  {
   "cell_type": "markdown",
   "metadata": {},
   "source": [
    "#### H-Index"
   ]
  },
  {
   "cell_type": "code",
   "execution_count": 93,
   "metadata": {},
   "outputs": [],
   "source": [
    "citations = [4,4,4,4]\n",
    "citations.sort(reverse = True)"
   ]
  },
  {
   "cell_type": "markdown",
   "metadata": {},
   "source": [
    "#### citations"
   ]
  },
  {
   "cell_type": "code",
   "execution_count": 104,
   "metadata": {},
   "outputs": [
    {
     "name": "stdout",
     "output_type": "stream",
     "text": [
      "0 4\n",
      "1 4\n",
      "2 4\n",
      "3 4\n"
     ]
    }
   ],
   "source": [
    "for i,x in enumerate(citations):\n",
    "    print(i,x)\n",
    "    answer = i\n",
    "    if i>x:\n",
    "        break\n",
    "    answer+=1"
   ]
  },
  {
   "cell_type": "code",
   "execution_count": 105,
   "metadata": {},
   "outputs": [
    {
     "data": {
      "text/plain": [
       "4"
      ]
     },
     "execution_count": 105,
     "metadata": {},
     "output_type": "execute_result"
    }
   ],
   "source": [
    "answer"
   ]
  },
  {
   "cell_type": "code",
   "execution_count": null,
   "metadata": {},
   "outputs": [],
   "source": []
  },
  {
   "cell_type": "code",
   "execution_count": null,
   "metadata": {},
   "outputs": [],
   "source": []
  }
 ],
 "metadata": {
  "kernelspec": {
   "display_name": "Python 3",
   "language": "python",
   "name": "python3"
  },
  "language_info": {
   "codemirror_mode": {
    "name": "ipython",
    "version": 3
   },
   "file_extension": ".py",
   "mimetype": "text/x-python",
   "name": "python",
   "nbconvert_exporter": "python",
   "pygments_lexer": "ipython3",
   "version": "3.6.5"
  }
 },
 "nbformat": 4,
 "nbformat_minor": 2
}

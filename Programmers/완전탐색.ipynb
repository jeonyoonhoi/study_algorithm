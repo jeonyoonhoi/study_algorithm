{
 "cells": [
  {
   "cell_type": "markdown",
   "metadata": {},
   "source": [
    "### 모의고사"
   ]
  },
  {
   "cell_type": "code",
   "execution_count": null,
   "metadata": {},
   "outputs": [],
   "source": [
    "def solution(answers):\n",
    "    answer = []\n",
    "\n",
    "    score = [0,0,0]\n",
    "    one = [1,2,3,4,5]\n",
    "    two = [2,1,2,3,2,4,2,5]\n",
    "    three = [3,3,1,1,2,2,4,4,5,5]\n",
    "\n",
    "    for i,x in enumerate(answers):\n",
    "        if x == one[i%len(one)]:\n",
    "            score[0]+=1\n",
    "        if x == two[i%len(two)]:\n",
    "            score[1]+=1\n",
    "        if x == three[i%len(three)]:\n",
    "            score[2]+=1\n",
    "    if score[0]>score[1]:\n",
    "        answer.append(1)\n",
    "    elif score[0]<score[1]:\n",
    "        answer.append(2)\n",
    "    else :\n",
    "        answer.append(1)\n",
    "        answer.append(2)\n",
    "    if score[answer[0]-1]>score[2]:\n",
    "        return answer\n",
    "    elif score[answer[0]-1]<score[2]:\n",
    "        \n",
    "        return [3]\n",
    "    \n",
    "    else : \n",
    "        answer.append(3)\n",
    "    return answer"
   ]
  },
  {
   "cell_type": "code",
   "execution_count": 6,
   "metadata": {},
   "outputs": [
    {
     "name": "stdout",
     "output_type": "stream",
     "text": [
      "0 1\n",
      "1 3\n",
      "2 2\n",
      "3 4\n",
      "4 2\n",
      "[2, 2, 2]\n"
     ]
    },
    {
     "ename": "SyntaxError",
     "evalue": "'return' outside function (<ipython-input-6-8fa4100c3bb2>, line 26)",
     "output_type": "error",
     "traceback": [
      "\u001b[1;36m  File \u001b[1;32m\"<ipython-input-6-8fa4100c3bb2>\"\u001b[1;36m, line \u001b[1;32m26\u001b[0m\n\u001b[1;33m    return answer\u001b[0m\n\u001b[1;37m    ^\u001b[0m\n\u001b[1;31mSyntaxError\u001b[0m\u001b[1;31m:\u001b[0m 'return' outside function\n"
     ]
    }
   ],
   "source": [
    "answer = []\n",
    "    answers = [1,3,2,4,2]\n",
    "    score = [0,0,0]\n",
    "    one = [1,2,3,4,5]\n",
    "    two = [2,1,2,3,2,4,2,5]\n",
    "    three = [3,3,1,1,2,2,4,4,5,5]\n",
    "\n",
    "    for i,x in enumerate(answers):\n",
    "        print(i,x)\n",
    "        if x == one[i%len(one)]:\n",
    "            score[0]+=1\n",
    "        if x == two[i%len(two)]:\n",
    "            score[1]+=1\n",
    "        if x == three[i%len(three)]:\n",
    "            score[2]+=1\n",
    "    print(score)\n",
    "    if score[0]>score[1]:\n",
    "        answer.append(1)\n",
    "    elif score[0]<score[1]:\n",
    "        answer.append(2)\n",
    "    else :\n",
    "        answer.append(1)\n",
    "        answer.append(2)\n",
    "\n",
    "    if answer[0]>score[2]:\n",
    "        return answer\n",
    "    elif answer[0]<score[2]:\n",
    "        return list(3)\n",
    "    else : \n",
    "        return score"
   ]
  },
  {
   "cell_type": "markdown",
   "metadata": {},
   "source": [
    "### 카펫"
   ]
  },
  {
   "cell_type": "code",
   "execution_count": 20,
   "metadata": {},
   "outputs": [
    {
     "name": "stdout",
     "output_type": "stream",
     "text": [
      "1 9.0\n",
      "2 16.0\n",
      "3 21.0\n",
      "4 24.0\n",
      "[8, 6]\n",
      "5 25.0\n"
     ]
    }
   ],
   "source": [
    "brown  = 24\n",
    "red = 24\n",
    "\n",
    "ymax = int(brown/4)\n",
    "\n",
    "for y in range(1,ymax):\n",
    "    print(y,((brown-4)/2-y)*y)\n",
    "    if ((brown-4)/2-y)*y == red : \n",
    "        print([int(brown/2-2-y)+2,y+2])"
   ]
  },
  {
   "cell_type": "code",
   "execution_count": 13,
   "metadata": {},
   "outputs": [
    {
     "data": {
      "text/plain": [
       "True"
      ]
     },
     "execution_count": 13,
     "metadata": {},
     "output_type": "execute_result"
    }
   ],
   "source": []
  },
  {
   "cell_type": "code",
   "execution_count": null,
   "metadata": {},
   "outputs": [],
   "source": [
    "def solution(brown, red):\n",
    "    answer = []\n",
    "    return answer"
   ]
  },
  {
   "cell_type": "markdown",
   "metadata": {},
   "source": [
    "### 소수 만들기\n",
    "\n",
    "- 소수 조건\n",
    "1. n은 1이 아니다\n",
    "2. 2로 나눠지는 수는 소수가 아니다\n",
    "3. 3부터 N-1 까지 자연수들로 순서대로 N을 나눠서 나누어 떨어지는 수가 하나도 없으면 N은 소수이다. \n",
    "4. 제곱근 까지만 내려가면 된다. \n",
    "어차피 한 수가 소수가 아니라면 두 숫자 중 하나는 제곱근 보다 작게 된다. \n",
    "\n"
   ]
  },
  {
   "cell_type": "code",
   "execution_count": 21,
   "metadata": {},
   "outputs": [],
   "source": [
    "def is_prime(n):\n",
    "    if n<2:\n",
    "        return False\n",
    "    if n==2 :\n",
    "        return True\n",
    "    if n%2 ==0:\n",
    "        return False\n",
    "    k = round(n**0.5)+1\n",
    "    for i in range(3,k,2):\n",
    "        if n%i is 0:\n",
    "            return False\n",
    "        \n",
    "    return True"
   ]
  },
  {
   "cell_type": "markdown",
   "metadata": {},
   "source": [
    "itertools \n",
    "combination 순서 없음\n",
    "permutation  순서 있음"
   ]
  },
  {
   "cell_type": "code",
   "execution_count": 31,
   "metadata": {},
   "outputs": [
    {
     "name": "stdout",
     "output_type": "stream",
     "text": [
      "[[(1,), (2,), (3,), (4,)], [(1, 2), (1, 3), (1, 4), (2, 3), (2, 4), (3, 4)], [(1, 2, 3), (1, 2, 4), (1, 3, 4), (2, 3, 4)], [(1, 2, 3, 4)]]\n",
      "[[(1,), (2,), (3,), (4,)], [(1, 2), (1, 3), (1, 4), (2, 1), (2, 3), (2, 4), (3, 1), (3, 2), (3, 4), (4, 1), (4, 2), (4, 3)], [(1, 2, 3), (1, 2, 4), (1, 3, 2), (1, 3, 4), (1, 4, 2), (1, 4, 3), (2, 1, 3), (2, 1, 4), (2, 3, 1), (2, 3, 4), (2, 4, 1), (2, 4, 3), (3, 1, 2), (3, 1, 4), (3, 2, 1), (3, 2, 4), (3, 4, 1), (3, 4, 2), (4, 1, 2), (4, 1, 3), (4, 2, 1), (4, 2, 3), (4, 3, 1), (4, 3, 2)], [(1, 2, 3, 4), (1, 2, 4, 3), (1, 3, 2, 4), (1, 3, 4, 2), (1, 4, 2, 3), (1, 4, 3, 2), (2, 1, 3, 4), (2, 1, 4, 3), (2, 3, 1, 4), (2, 3, 4, 1), (2, 4, 1, 3), (2, 4, 3, 1), (3, 1, 2, 4), (3, 1, 4, 2), (3, 2, 1, 4), (3, 2, 4, 1), (3, 4, 1, 2), (3, 4, 2, 1), (4, 1, 2, 3), (4, 1, 3, 2), (4, 2, 1, 3), (4, 2, 3, 1), (4, 3, 1, 2), (4, 3, 2, 1)]]\n"
     ]
    }
   ],
   "source": [
    "from itertools import combinations\n",
    "from itertools import permutations\n",
    "x = [1,2,3,4]\n",
    "combi=[]\n",
    "permu =[]\n",
    "for i in range(1,len(x)+1):\n",
    "    combi.append(list(combinations(x,i)))\n",
    "    permu.append(list(permutations(x,i)))\n",
    "\n",
    "\n",
    "print(combi)\n",
    "print(permu)"
   ]
  },
  {
   "cell_type": "code",
   "execution_count": 75,
   "metadata": {},
   "outputs": [],
   "source": [
    "from itertools import permutations\n",
    "def solution(numbers):\n",
    "    answer = 0\n",
    "    sample = []\n",
    "    for i in range(1,len(numbers)+1):\n",
    "        sample+= (list(permutations(numbers,i)))\n",
    "    number = []\n",
    "    \n",
    "    for k in sample:\n",
    "        string =''\n",
    "        for i in k:\n",
    "            string+=str(i)\n",
    "        number.append(int(string))\n",
    "    \n",
    "    #중복제거\n",
    "    number = list(set(number))\n",
    "    for x in number:\n",
    "        if is_prime(x) : \n",
    "            answer+=1\n",
    "            \n",
    "    return answer"
   ]
  },
  {
   "cell_type": "code",
   "execution_count": 76,
   "metadata": {},
   "outputs": [
    {
     "name": "stdout",
     "output_type": "stream",
     "text": [
      "[(0,), (1,), (1,), (0, 1), (0, 1), (1, 0), (1, 1), (1, 0), (1, 1), (0, 1, 1), (0, 1, 1), (1, 0, 1), (1, 1, 0), (1, 0, 1), (1, 1, 0)]\n",
      "[0, 1, 101, 10, 11, 110]\n"
     ]
    },
    {
     "data": {
      "text/plain": [
       "2"
      ]
     },
     "execution_count": 76,
     "metadata": {},
     "output_type": "execute_result"
    }
   ],
   "source": [
    "solution([0,1,1])"
   ]
  },
  {
   "cell_type": "markdown",
   "metadata": {},
   "source": [
    "### 숫자야구"
   ]
  },
  {
   "cell_type": "code",
   "execution_count": null,
   "metadata": {},
   "outputs": [],
   "source": []
  }
 ],
 "metadata": {
  "kernelspec": {
   "display_name": "Python 3",
   "language": "python",
   "name": "python3"
  },
  "language_info": {
   "codemirror_mode": {
    "name": "ipython",
    "version": 3
   },
   "file_extension": ".py",
   "mimetype": "text/x-python",
   "name": "python",
   "nbconvert_exporter": "python",
   "pygments_lexer": "ipython3",
   "version": "3.6.5"
  }
 },
 "nbformat": 4,
 "nbformat_minor": 2
}

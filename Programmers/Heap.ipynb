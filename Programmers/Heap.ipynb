{
 "cells": [
  {
   "cell_type": "markdown",
   "metadata": {},
   "source": [
    "http://www.flowdas.com/thinkpython/11-dictionaries/"
   ]
  },
  {
   "cell_type": "markdown",
   "metadata": {},
   "source": [
    "구현(Implementation) 은 계산을 수행하는 방법입니다. 어떤 구현은 다른 구현보다 좋습니다. 예를 들어 딕셔너리 구현의 장점 중 하나는 문자열에 어떤 글자가 나타날지 미리 알 필요가 없이, 나타나는 문자에 대한 자리만 만들어도 된다는 것입니다. "
   ]
  },
  {
   "cell_type": "code",
   "execution_count": 22,
   "metadata": {},
   "outputs": [],
   "source": [
    "def histogram(s):#딕셔너리에는 키와 기본 값을 받는 get 이라는 메소드가 있다. 키가 딕셔너리에 있으면 get은 대응하는 값을 돌려준다. 그렇지 않으\n",
    "    d = dict()\n",
    "    for c in s:\n",
    "        if c not in d:\n",
    "            d[c] =1\n",
    "        else :\n",
    "            d[c] +=1\n",
    "    return d\n",
    "\n",
    "\n",
    "            "
   ]
  },
  {
   "cell_type": "markdown",
   "metadata": {},
   "source": [
    "딕셔너리에는 키와 기본 값을 받는 get 이라는 메소드가 있다. 키가 딕셔너리에 있으면 get은 대응하는 값을 돌려준다. 그렇지 않으면 기본값을 돌려준다.\n"
   ]
  },
  {
   "cell_type": "code",
   "execution_count": 23,
   "metadata": {},
   "outputs": [],
   "source": [
    "def histogram2(s):\n",
    "    d = dict()\n",
    "    for c in s:\n",
    "        d[c] = d.get(1,0)+1# 없으면 0 을 리턴\n",
    "    \n",
    "        "
   ]
  },
  {
   "cell_type": "code",
   "execution_count": 24,
   "metadata": {
    "scrolled": true
   },
   "outputs": [
    {
     "name": "stdout",
     "output_type": "stream",
     "text": [
      "{'a': 1}\n"
     ]
    }
   ],
   "source": [
    "h = histogram('a')\n",
    "print(h)"
   ]
  },
  {
   "cell_type": "code",
   "execution_count": 16,
   "metadata": {},
   "outputs": [
    {
     "data": {
      "text/plain": [
       "1"
      ]
     },
     "execution_count": 16,
     "metadata": {},
     "output_type": "execute_result"
    }
   ],
   "source": [
    "h.get('a',0)"
   ]
  },
  {
   "cell_type": "code",
   "execution_count": 18,
   "metadata": {
    "scrolled": true
   },
   "outputs": [
    {
     "data": {
      "text/plain": [
       "0"
      ]
     },
     "execution_count": 18,
     "metadata": {},
     "output_type": "execute_result"
    }
   ],
   "source": [
    "h.get('b',0)"
   ]
  },
  {
   "cell_type": "code",
   "execution_count": null,
   "metadata": {},
   "outputs": [],
   "source": []
  },
  {
   "cell_type": "code",
   "execution_count": 19,
   "metadata": {},
   "outputs": [],
   "source": [
    "def print_hist(h):\n",
    "    for c in h:\n",
    "        print(c,h[c])"
   ]
  },
  {
   "cell_type": "code",
   "execution_count": 26,
   "metadata": {
    "scrolled": true
   },
   "outputs": [
    {
     "name": "stdout",
     "output_type": "stream",
     "text": [
      "p 1\n",
      "a 1\n",
      "r 2\n",
      "o 1\n",
      "t 1\n"
     ]
    }
   ],
   "source": [
    "h = histogram('parrot')\n",
    "print_hist(h)"
   ]
  },
  {
   "cell_type": "markdown",
   "metadata": {},
   "source": [
    "#### 연습 11.3\n",
    "딕셔너리에는 keys 라는 메쏘드가 있는데 딕셔너리의 키를 특별한 순서 없이 리스트로 돌려준다.\n",
    "print_hist 를 키와 그 겂으 알파벳 순으로 인쇄하도록 수정하자"
   ]
  },
  {
   "cell_type": "code",
   "execution_count": 40,
   "metadata": {},
   "outputs": [],
   "source": [
    "def print_hist2(h):\n",
    "    hist_list = list(h.keys())\n",
    "    hist_list.sort()\n",
    "    print(hist_list)\n",
    "    for x in hist_list:        \n",
    "        print(x,h[x])"
   ]
  },
  {
   "cell_type": "code",
   "execution_count": 41,
   "metadata": {},
   "outputs": [
    {
     "data": {
      "text/plain": [
       "{'p': 1, 'a': 1, 'r': 2, 'o': 1, 't': 1}"
      ]
     },
     "execution_count": 41,
     "metadata": {},
     "output_type": "execute_result"
    }
   ],
   "source": [
    "h"
   ]
  },
  {
   "cell_type": "code",
   "execution_count": 42,
   "metadata": {
    "scrolled": true
   },
   "outputs": [
    {
     "name": "stdout",
     "output_type": "stream",
     "text": [
      "['a', 'o', 'p', 'r', 't']\n",
      "a 1\n",
      "o 1\n",
      "p 1\n",
      "r 2\n",
      "t 1\n"
     ]
    }
   ],
   "source": [
    "print_hist2(h)"
   ]
  },
  {
   "cell_type": "markdown",
   "metadata": {},
   "source": [
    "#### 역방향 조회"
   ]
  },
  {
   "cell_type": "code",
   "execution_count": null,
   "metadata": {},
   "outputs": [],
   "source": [
    "def reverse_lookup(d,v):\n",
    "    for k in d:\n",
    "        if d[k]==v:\n",
    "            return k\n",
    "    raise valueError #raise 는 예외를 일으킵니다.\n",
    "    # 순회의 끝에 도달한다는 것은 마땅한 값을 찾지 못함\n",
    "    "
   ]
  },
  {
   "cell_type": "code",
   "execution_count": 43,
   "metadata": {},
   "outputs": [],
   "source": [
    "def reverse_lookup2(d,v):\n",
    "    for k in d:\n",
    "        if d[k]==v:\n",
    "            return k\n",
    "    return []"
   ]
  },
  {
   "cell_type": "markdown",
   "metadata": {},
   "source": [
    "#### invert\n",
    "리스트는 딕셔너리의값으로 쓰일 수 있습니다. \n",
    "예를 들어 빈도로 대응시키는 딕셔너리가 주어졌을 때 뒤집고 싶을 수 있다. 즉 , 빈도를 글자들로 대응시키는 딕셔너리를 만드는 것.  같은 빈도를 보이는 글자가 여러 개 있을 수 도 있기 때문에, 뒤집힌 딕셔너리의 각 값들은 글자들의 리스트가 되어야 한다. "
   ]
  },
  {
   "cell_type": "code",
   "execution_count": 44,
   "metadata": {},
   "outputs": [],
   "source": [
    "def invert_dict(d):\n",
    "    inverse = dict()\n",
    "    for key in d:\n",
    "        val = d[key]\n",
    "        if val not in inverse:\n",
    "            inverse[val] = [key]\n",
    "        else : \n",
    "            inverse[val].append(key)\n",
    "    return inverse\n",
    "\n"
   ]
  },
  {
   "cell_type": "markdown",
   "metadata": {},
   "source": [
    "- 앞에서 딕셔너리는 해시테이브을 사용해서 구현된다고 언급했는데, 이는 키가 해싱가능 해야 한다는 뜻이 됩니다.\n",
    "\n",
    "-  hash 는 어떤 종류이건 값을 받아서 정수를 돌려주는 함수입니다. 딕셔너리는 이 정수, 해시 값이라고 불립니다. 키- 값 쌍을 저장하고 조회하는데 사용합니다\n",
    "\n",
    "- 이 시스템은 키가 수정 불가능하다면 잘 동작합니다. 그러나 키가 리스트 처럼 수정 가능하면 나쁜 일이 일어납니다. 예를 들어 카-값 쌍을 만드ㅏㄹ 때 파이썬으 니를 해시하고 그 값을 대응하는 장소에 저장합니다. 만약 키를 수정한 후 다시 해시하면, 다른 장소로 가게 됩니다. 그 경웽 같은 키를 갖는 두 개의 항목을 갖게 되거나 키를 찾을 수 없게 되고, 이 경우 모두 딕셔너리는 올바로 동작하지 않게 됩니다. \n",
    "\n",
    "- 이것이 키가 해싱 가능해야 하는 이유이고,ㅓ 리스트와 같은 수정 가능한 형은 해싱 가능하지 않습니다.이 한계를 피하는 가장 간단한 방법은 튜플인데 다른곳에서 보게 됩니다.\n",
    "\n",
    "- 딕셔너ㅣㄹ는 수정하능하기 대문에 ㅣ로 사요될 수는 없지만 값으로는 사용할 수 있습니다. \n",
    "\n"
   ]
  },
  {
   "cell_type": "markdown",
   "metadata": {},
   "source": [
    "* 라면공장"
   ]
  },
  {
   "cell_type": "code",
   "execution_count": null,
   "metadata": {},
   "outputs": [],
   "source": [
    "stock = 4             # 현재 남아있는 밀가루 수량\n",
    "dates = [4,10,15]     # 밀가루 공급 일정\n",
    "supplies = [20,5,10]  # 그때 공급 가능한 밀가루 수량\n",
    "k=30                  #원래 공장으로부터 공급받을 수 있는 시점\n",
    "result = 0            # dates 중 몇번 공급받아야 하는지  \n",
    "\n"
   ]
  },
  {
   "cell_type": "code",
   "execution_count": 28,
   "metadata": {},
   "outputs": [],
   "source": [
    "# 이거 일단 정답은 맞는데 효율성 안나옴 ㅠ\n",
    "def solution(stock, dates, supplies, k):\n",
    "    answer = 0\n",
    "    maxin =0 # 최소값 인덱스\n",
    "    heap = list()\n",
    "    \n",
    "    for i in range(len(dates)): \n",
    "        if dates[i] > stock: #충전해야될 때 날짜가 stock 넘을 때\n",
    "            stock += heap.pop(0)\n",
    "            answer+= 1\n",
    "        \n",
    "        heap.append(supplies[i]) # 일단 넣고\n",
    "        heap.sort(reverse = True) # 정렬을 한다음 \n",
    "        \n",
    "    if stock<k:\n",
    "        stock+=heap.pop(0)\n",
    "        answer+=1\n",
    "            \n",
    "            \n",
    "            \n",
    "    return answer"
   ]
  },
  {
   "cell_type": "code",
   "execution_count": 97,
   "metadata": {},
   "outputs": [],
   "source": [
    "def solution(stock, dates, supplies, k):\n",
    "    answer = 0\n",
    "    maxin =0 # 최소값 인덱스\n",
    "    heap = list()\n",
    "    \n",
    "    for i in range(len(dates)): \n",
    "       \n",
    "        if dates[i] > stock: #충전해야될 때 날짜가 stock 넘을 때\n",
    "            print(\"충전시점 : \",dates[i],stock)\n",
    "            stock += heap.pop(0)\n",
    "            answer+=1\n",
    "        \n",
    "        print(\"i : \",i, \" heap 만듦 \",supplies[i])\n",
    "        heap.append(supplies[i]) # 일단 넣고\n",
    "        heap.sort(reverse = True) # 정렬을 한다음 \n",
    "        print(heap)\n",
    "        \n",
    "    print(stock,k)\n",
    "    if stock<k:\n",
    "        stock+=heap.pop(0)\n",
    "        answer+=1\n",
    "            \n",
    "            \n",
    "            \n",
    "    return answer"
   ]
  },
  {
   "cell_type": "code",
   "execution_count": 130,
   "metadata": {},
   "outputs": [],
   "source": []
  },
  {
   "cell_type": "code",
   "execution_count": 131,
   "metadata": {},
   "outputs": [
    {
     "name": "stdout",
     "output_type": "stream",
     "text": [
      "i :  0\n",
      "0 20 [20]\n",
      "i :  1\n",
      "1 5 [5]\n",
      "i :  2\n",
      "2 10 [10, 5]\n",
      "i :  3\n",
      "i :  4\n"
     ]
    }
   ],
   "source": [
    "answer = solution(4,[4, 10, 15], [20, 5, 10], 30)"
   ]
  },
  {
   "cell_type": "code",
   "execution_count": 132,
   "metadata": {},
   "outputs": [
    {
     "data": {
      "text/plain": [
       "2"
      ]
     },
     "execution_count": 132,
     "metadata": {},
     "output_type": "execute_result"
    }
   ],
   "source": [
    "answer"
   ]
  },
  {
   "cell_type": "code",
   "execution_count": null,
   "metadata": {},
   "outputs": [],
   "source": [
    "# 이거 일단 정답은 맞는데 효율성 안나옴 ㅠ\n",
    "def solution(stock, dates, supplies, k):\n",
    "    answer = 0\n",
    "    maxin =0 # 최소값 인덱스\n",
    "    heap = list()\n",
    "    \n",
    "    for i in range(len(dates)): \n",
    "        if dates[i] > stock: #충전해야될 때 날짜가 stock 넘을 때\n",
    "            heap.sort(reverse = True) \n",
    "            stock += heap.pop(0)\n",
    "            answer+= 1\n",
    "        \n",
    "        heap.append(supplies[i]) # 일단 넣고\n",
    "        \n",
    "    if stock<k:\n",
    "        stock+=heap.pop(0)\n",
    "        answer+=1\n",
    "            \n",
    "            \n",
    "            \n",
    "    return answer"
   ]
  },
  {
   "cell_type": "markdown",
   "metadata": {},
   "source": [
    "# 더 맵게 : 스코빌"
   ]
  },
  {
   "cell_type": "code",
   "execution_count": 133,
   "metadata": {},
   "outputs": [],
   "source": [
    "scoville = [1,2,3,9,10,12]\n",
    "K=7"
   ]
  },
  {
   "cell_type": "code",
   "execution_count": 123,
   "metadata": {},
   "outputs": [],
   "source": [
    "import heapq\n",
    "def solution(scoville,K):\n",
    "    answer =0\n",
    "    heap =scoville[:] # scoville과 같은 heap\n",
    "    while True : \n",
    "        if heap[0]<K:\n",
    "            if len(heap)==1 : \n",
    "                return -1\n",
    "            \n",
    "            answer +=1\n",
    "            new = (heapq.heappop(heap)+2*heapq.heappop(heap))\n",
    "            heapq.heappush(heap,new)\n",
    "        else :\n",
    "            return answer\n",
    "    \n",
    "    return answer"
   ]
  },
  {
   "cell_type": "code",
   "execution_count": 129,
   "metadata": {},
   "outputs": [],
   "source": [
    "# 시간초과남\n",
    "import heapq as hq\n",
    "def solution(scoville, K):\n",
    "    answer  =0\n",
    "    \n",
    "    heap = scoville[:]\n",
    "    while True : \n",
    "        print(\"Df\" ,heap)\n",
    "        if heap[0]<K and len(heap)==1: # 0번째가 k 작고 마지막일때 == -1리턴\n",
    "            return -1\n",
    "        else : \n",
    "            return answer\n",
    "        \n",
    "        hq.heappush(heap, (hq.heappop(heap)+hq.heappop(heap)*2))\n",
    "        \n",
    "        answer+=1\n",
    "        print(heap)\n",
    "        \n",
    "    "
   ]
  },
  {
   "cell_type": "code",
   "execution_count": 130,
   "metadata": {},
   "outputs": [],
   "source": [
    "scoville = [1,2,3,9,10,12]\n",
    "K = 7"
   ]
  },
  {
   "cell_type": "code",
   "execution_count": 131,
   "metadata": {},
   "outputs": [
    {
     "name": "stdout",
     "output_type": "stream",
     "text": [
      "Df [1, 2, 3, 9, 10, 12]\n"
     ]
    },
    {
     "data": {
      "text/plain": [
       "0"
      ]
     },
     "execution_count": 131,
     "metadata": {},
     "output_type": "execute_result"
    }
   ],
   "source": [
    "solution(scoville, K)"
   ]
  },
  {
   "cell_type": "markdown",
   "metadata": {},
   "source": [
    "# 이중우선순위큐"
   ]
  },
  {
   "cell_type": "code",
   "execution_count": 1,
   "metadata": {},
   "outputs": [],
   "source": [
    "operations = [\"I 7\",\"I 5\",\"I -5\",\"D -1\"]"
   ]
  },
  {
   "cell_type": "code",
   "execution_count": 5,
   "metadata": {},
   "outputs": [],
   "source": [
    "opt = operations[2]"
   ]
  },
  {
   "cell_type": "code",
   "execution_count": 8,
   "metadata": {},
   "outputs": [],
   "source": [
    "num = int(opt[2:])"
   ]
  },
  {
   "cell_type": "code",
   "execution_count": 10,
   "metadata": {},
   "outputs": [
    {
     "data": {
      "text/plain": [
       "int"
      ]
     },
     "execution_count": 10,
     "metadata": {},
     "output_type": "execute_result"
    }
   ],
   "source": [
    "type(num)"
   ]
  },
  {
   "cell_type": "code",
   "execution_count": 11,
   "metadata": {},
   "outputs": [],
   "source": [
    "import heapq as hq"
   ]
  },
  {
   "cell_type": "code",
   "execution_count": 12,
   "metadata": {},
   "outputs": [],
   "source": [
    "x = [1,5,7,3,37,10]"
   ]
  },
  {
   "cell_type": "code",
   "execution_count": 15,
   "metadata": {},
   "outputs": [
    {
     "ename": "NameError",
     "evalue": "name 'reverse' is not defined",
     "output_type": "error",
     "traceback": [
      "\u001b[1;31m---------------------------------------------------------------------------\u001b[0m",
      "\u001b[1;31mNameError\u001b[0m                                 Traceback (most recent call last)",
      "\u001b[1;32m<ipython-input-15-a4ce03eb64d7>\u001b[0m in \u001b[0;36m<module>\u001b[1;34m()\u001b[0m\n\u001b[0;32m      1\u001b[0m \u001b[0mli\u001b[0m \u001b[1;33m=\u001b[0m \u001b[1;33m[\u001b[0m\u001b[1;33m]\u001b[0m\u001b[1;33m\u001b[0m\u001b[0m\n\u001b[1;32m----> 2\u001b[1;33m \u001b[0mhq\u001b[0m\u001b[1;33m.\u001b[0m\u001b[0mheappop\u001b[0m\u001b[1;33m(\u001b[0m\u001b[0mx\u001b[0m\u001b[1;33m,\u001b[0m\u001b[0mreverse\u001b[0m\u001b[1;33m)\u001b[0m\u001b[1;33m\u001b[0m\u001b[0m\n\u001b[0m",
      "\u001b[1;31mNameError\u001b[0m: name 'reverse' is not defined"
     ]
    }
   ],
   "source": []
  },
  {
   "cell_type": "code",
   "execution_count": 17,
   "metadata": {
    "scrolled": true
   },
   "outputs": [
    {
     "name": "stdout",
     "output_type": "stream",
     "text": [
      "Help on built-in function heappop in module _heapq:\n",
      "\n",
      "heappop(...)\n",
      "    Pop the smallest item off the heap, maintaining the heap invariant.\n",
      "\n"
     ]
    }
   ],
   "source": [
    "help(hq.heappop)"
   ]
  },
  {
   "cell_type": "code",
   "execution_count": 42,
   "metadata": {},
   "outputs": [],
   "source": [
    "import heapq as hq\n",
    "\n",
    "def solution(operations):\n",
    "    answer = []\n",
    "    dbheap = list()\n",
    "    \n",
    "    for opt in operations:\n",
    "        print(\"###########################\")\n",
    "        print(opt)\n",
    "        num = int(opt[2:])\n",
    "        \n",
    "        \n",
    "        if opt[0] ==\"I\":\n",
    "            hq.heappush(dbheap,num)\n",
    "            dbheap.sort()\n",
    "            print(\"insert 함\", num)\n",
    "            print(\"dbheap \",dbheap)\n",
    "            \n",
    "        elif len(dbheap)!=0 : # opt[0]==\"D\"\n",
    "            print(\"지울때\")\n",
    "            print(type(num))\n",
    "            if num==-1: # num 음수일때 => Min\n",
    "                hq.heappop(dbheap)\n",
    "                print(\"음수일 때 최솟값 빼야댕\")\n",
    "                print(dbheap)\n",
    "            elif num ==1: # num 양수일때 =>Max\n",
    "                dbheap.pop(len(dbheap)-1)\n",
    "                print(\"양수일 때 최댓값 뺌\")\n",
    "                print(dbheap)\n",
    "        else : # D 인데 비어있을경우 \n",
    "            # 무시한다. \n",
    "            continue\n",
    "            \n",
    "    # 다 돌고 나서 \n",
    "    if len(dbheap)==0:\n",
    "        return [0,0]\n",
    "    else : \n",
    "        return [dbheap.pop(0),dbheap.pop(-1)]\n",
    "    \n",
    "    "
   ]
  },
  {
   "cell_type": "code",
   "execution_count": 43,
   "metadata": {
    "scrolled": false
   },
   "outputs": [
    {
     "name": "stdout",
     "output_type": "stream",
     "text": [
      "###########################\n",
      "I -45\n",
      "insert 함 -45\n",
      "dbheap  [-45]\n",
      "###########################\n",
      "I 653\n",
      "insert 함 653\n",
      "dbheap  [-45, 653]\n",
      "###########################\n",
      "D 1\n",
      "지울때\n",
      "<class 'int'>\n",
      "양수일 때 최댓값 뺌\n",
      "[-45]\n",
      "###########################\n",
      "I -642\n",
      "insert 함 -642\n",
      "dbheap  [-642, -45]\n",
      "###########################\n",
      "I 45\n",
      "insert 함 45\n",
      "dbheap  [-642, -45, 45]\n",
      "###########################\n",
      "I 97\n",
      "insert 함 97\n",
      "dbheap  [-642, -45, 45, 97]\n",
      "###########################\n",
      "D 1\n",
      "지울때\n",
      "<class 'int'>\n",
      "양수일 때 최댓값 뺌\n",
      "[-642, -45, 45]\n",
      "###########################\n",
      "D -1\n",
      "지울때\n",
      "<class 'int'>\n",
      "음수일 때 최솟값 빼야댕\n",
      "[-45, 45]\n",
      "###########################\n",
      "I 333\n",
      "insert 함 333\n",
      "dbheap  [-45, 45, 333]\n"
     ]
    },
    {
     "data": {
      "text/plain": [
       "[-45, 333]"
      ]
     },
     "execution_count": 43,
     "metadata": {},
     "output_type": "execute_result"
    }
   ],
   "source": [
    "operations = [\"I -45\", \"I 653\", \"D 1\", \"I -642\", \"I 45\", \"I 97\", \"D 1\", \"D -1\", \"I 333\"]\n",
    "solution(operations)"
   ]
  },
  {
   "cell_type": "markdown",
   "metadata": {},
   "source": [
    "#### 제출 답안"
   ]
  },
  {
   "cell_type": "code",
   "execution_count": 44,
   "metadata": {},
   "outputs": [],
   "source": [
    "import heapq as hq\n",
    "\n",
    "def solution(operations):\n",
    "    answer = []\n",
    "    dbheap = list()\n",
    "    \n",
    "    for opt in operations:\n",
    "        num = int(opt[2:])\n",
    "        \n",
    "        \n",
    "        if opt[0] ==\"I\":\n",
    "            hq.heappush(dbheap,num)\n",
    "            dbheap.sort()\n",
    "            \n",
    "        elif len(dbheap)!=0 : # opt[0]==\"D\"\n",
    "            if num==-1: # num 음수일때 => Min\n",
    "                hq.heappop(dbheap)\n",
    "            elif num ==1: # num 양수일때 =>Max\n",
    "                dbheap.pop(len(dbheap)-1)\n",
    "        else : # D 인데 비어있을경우 \n",
    "            # 무시한다. \n",
    "            continue\n",
    "            \n",
    "    # 다 돌고 나서 \n",
    "    if len(dbheap)==0:\n",
    "        return [0,0]\n",
    "    else : \n",
    "        return [dbheap.pop(-1),dbheap.pop(0)]"
   ]
  },
  {
   "cell_type": "markdown",
   "metadata": {},
   "source": [
    "# 디스크 컨트롤러"
   ]
  },
  {
   "cell_type": "code",
   "execution_count": 55,
   "metadata": {},
   "outputs": [],
   "source": [
    "jobs = [[0, 3], [1, 9], [2, 6]]"
   ]
  },
  {
   "cell_type": "code",
   "execution_count": 46,
   "metadata": {},
   "outputs": [],
   "source": [
    "jobs_dict = dict(jobs)"
   ]
  },
  {
   "cell_type": "code",
   "execution_count": 47,
   "metadata": {},
   "outputs": [
    {
     "data": {
      "text/plain": [
       "{0: 3, 1: 9, 2: 6}"
      ]
     },
     "execution_count": 47,
     "metadata": {},
     "output_type": "execute_result"
    }
   ],
   "source": [
    "jobs_dict"
   ]
  },
  {
   "cell_type": "code",
   "execution_count": 51,
   "metadata": {},
   "outputs": [
    {
     "data": {
      "text/plain": [
       "dict_items([(0, 3), (1, 9), (2, 6)])"
      ]
     },
     "execution_count": 51,
     "metadata": {},
     "output_type": "execute_result"
    }
   ],
   "source": [
    "jobs_dict.items()"
   ]
  },
  {
   "cell_type": "code",
   "execution_count": 52,
   "metadata": {},
   "outputs": [],
   "source": [
    "jobs_sorted = sorted(jobs_dict.items(), key = lambda x : x[1])"
   ]
  },
  {
   "cell_type": "code",
   "execution_count": 53,
   "metadata": {},
   "outputs": [
    {
     "data": {
      "text/plain": [
       "[(0, 3), (2, 6), (1, 9)]"
      ]
     },
     "execution_count": 53,
     "metadata": {},
     "output_type": "execute_result"
    }
   ],
   "source": [
    "jobs_sorted"
   ]
  },
  {
   "cell_type": "code",
   "execution_count": null,
   "metadata": {},
   "outputs": [],
   "source": [
    "#틀림\n",
    "def solution(jobs):\n",
    "    answer = 0\n",
    "    avg = list()\n",
    "    \n",
    "    d = dict(jobs)\n",
    "    d_sorted = sorted(d.items(),key = lambda x:x[1])\n",
    "    # 걸린 시간 기준으로 정렬된 리스트 \n",
    "    \n",
    "    now = 0\n",
    "    for li in d_sorted:\n",
    "        intime = li[0] # 들어온 시점\n",
    "        taketime = li[1] # 걸리는 시간\n",
    "        \n",
    "        if intime>now : \n",
    "            now = intime+taketime\n",
    "\n",
    "        else : #intime <= now \n",
    "            now += taketime # 작업을 총 하고나서 시간\n",
    "            \n",
    "        total = now-intime\n",
    "        avg.append(total) \n",
    "\n",
    "    answer =  sum(avg)/len(avg)\n",
    "    \n",
    "    return answer"
   ]
  },
  {
   "cell_type": "markdown",
   "metadata": {},
   "source": [
    "하드디스크가 작업을 수행하고 있지않을 때에는 먼저 요청이 들어온 작업부터 처리합니다. \n",
    "(미리 소팅을 다 해버리면 뒤에 먼저 시작했으나 들어오지 못한 애들이 있음 ㅠ 하나씩 봅시당)"
   ]
  },
  {
   "cell_type": "code",
   "execution_count": 78,
   "metadata": {},
   "outputs": [],
   "source": [
    "jobs = [[0, 3], [10, 6], [20,9]]"
   ]
  },
  {
   "cell_type": "code",
   "execution_count": 77,
   "metadata": {
    "scrolled": true
   },
   "outputs": [
    {
     "name": "stdout",
     "output_type": "stream",
     "text": [
      "[3, 6, 25]\n"
     ]
    },
    {
     "data": {
      "text/plain": [
       "11.333333333333334"
      ]
     },
     "execution_count": 77,
     "metadata": {},
     "output_type": "execute_result"
    }
   ],
   "source": [
    "solution(jobs)"
   ]
  },
  {
   "cell_type": "code",
   "execution_count": 95,
   "metadata": {},
   "outputs": [
    {
     "name": "stdout",
     "output_type": "stream",
     "text": [
      "[[0, 3]]\n",
      "1\n",
      "******nowjob :  [0, 3]\n",
      "[[10, 6]]\n",
      "1\n",
      "******nowjob :  [10, 6]\n",
      "[[20, 9]]\n",
      "1\n",
      "******nowjob :  [20, 9]\n"
     ]
    }
   ],
   "source": [
    "jobs = [[0, 3], [10, 6], [20,9]]\n",
    "answer = 0\n",
    "avg = list()\n",
    "now = 0\n",
    "jobs_sorted = list()\n",
    "\n",
    "for li in jobs:\n",
    "    \n",
    "    jobs_sorted.append(li)\n",
    "    jobs_sorted = sorted(jobs_sorted, key = lambda x:x[1])\n",
    "    print(jobs_sorted)\n",
    "    print(len(jobs_sorted))\n",
    "    # 만약 지금 할 수 있는 스케쥴이 0, 1개 일때\n",
    "    \n",
    "    now_job = jobs_sorted.pop()\n",
    "    intime = now_job[0] #작업이 요청된 시점\n",
    "    taketime = now_job[1] # 작업에 소요되는 시간\n",
    "    print(\"******nowjob : \",now_job)\n",
    "    \n",
    "    if intime> now:\n",
    "        now = intime + taketime\n",
    "    else :\n",
    "        now+=taketime\n",
    "    total = now - intime\n",
    "    avg.append(total)\n",
    "    \n",
    "answer = sum(avg)/len(avg)"
   ]
  },
  {
   "cell_type": "code",
   "execution_count": null,
   "metadata": {},
   "outputs": [],
   "source": []
  }
 ],
 "metadata": {
  "kernelspec": {
   "display_name": "Python 3",
   "language": "python",
   "name": "python3"
  },
  "language_info": {
   "codemirror_mode": {
    "name": "ipython",
    "version": 3
   },
   "file_extension": ".py",
   "mimetype": "text/x-python",
   "name": "python",
   "nbconvert_exporter": "python",
   "pygments_lexer": "ipython3",
   "version": "3.6.5"
  }
 },
 "nbformat": 4,
 "nbformat_minor": 2
}

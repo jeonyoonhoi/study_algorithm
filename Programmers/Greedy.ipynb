{
 "cells": [
  {
   "cell_type": "markdown",
   "metadata": {},
   "source": [
    "### 체육복\n",
    "- 문제이해를 잘해야 합니당,,,\n",
    "1. 2.1.0 이있다.\n",
    "2. 11111 다 가져왔다고 가정\n",
    "3. 여분 가져온 애들으 ㄴ +1\n",
    "4. 훔쳐갔다 -1\n",
    "5. 두개 가져간 애들 기준으로 or 아얘 없는 기준으로 \n",
    "6. 그리디 인건 앞에부터 하는경우에는 "
   ]
  },
  {
   "cell_type": "code",
   "execution_count": 14,
   "metadata": {},
   "outputs": [],
   "source": [
    "answer = 0\n",
    "n=5\n",
    "lost=[2,4]\n",
    "reserve=[1,3,5]\n",
    "\n",
    "look = [1 for a in range(n)]\n",
    "for x in lost : \n",
    "    look[x-1]-=1\n",
    "for x in reserve :\n",
    "    look[x-1]+=1\n",
    "# 체육복 개수에 대한 세팅\n",
    "\n",
    "for i in range(n):\n",
    "    if look[i]==2:\n",
    "        if look[i-1]==0 :\n",
    "            look[i-1]+=1\n",
    "            look[i]-=1\n",
    "        elif i!=n-1 and look[i+1] ==0:\n",
    "            look[i+1]+=1\n",
    "            look[i]-=1\n",
    "    # 맨 시작하고 끝을 어떻게 처리하나 \n",
    "\n",
    "for x in look:\n",
    "    if x>=1:\n",
    "        answer+=1\n"
   ]
  },
  {
   "cell_type": "code",
   "execution_count": 16,
   "metadata": {},
   "outputs": [
    {
     "data": {
      "text/plain": [
       "5"
      ]
     },
     "execution_count": 16,
     "metadata": {},
     "output_type": "execute_result"
    }
   ],
   "source": [
    "answer"
   ]
  },
  {
   "cell_type": "code",
   "execution_count": null,
   "metadata": {},
   "outputs": [],
   "source": [
    "def solution(n, lost, reserve):\n",
    "    answer = 0\n",
    "\n",
    "    \n",
    "    look = [1 for a in range(n)]\n",
    "    for x in lost : \n",
    "        look[x-1]-=1\n",
    "    for x in reserve :\n",
    "        look[x-1]+=1\n",
    "    # 체육복 개수에 대한 세팅\n",
    "\n",
    "    for i in range(n):\n",
    "        if look[i]==2:\n",
    "            if look[i-1]==0 :\n",
    "                look[i-1]+=1\n",
    "                look[i]-=1\n",
    "            elif i!=n-1 and look[i+1] ==0:\n",
    "                look[i+1]+=1\n",
    "                look[i]-=1\n",
    "        # 맨 시작하고 끝을 어떻게 처리하나 \n",
    "\n",
    "    for x in look:\n",
    "        if x>=1:\n",
    "            answer+=1\n",
    "    \n",
    "    \n",
    "    return answer"
   ]
  },
  {
   "cell_type": "markdown",
   "metadata": {},
   "source": [
    "### 조이스틱 \n",
    "- 중요한건 좌우 이동할 때 그 순간에서 최단거리로 이동하는것!!!\n"
   ]
  },
  {
   "cell_type": "code",
   "execution_count": 12,
   "metadata": {},
   "outputs": [
    {
     "data": {
      "text/plain": [
       "[7, 0, 12, 0, 13, 10, 0, 7]"
      ]
     },
     "execution_count": 12,
     "metadata": {},
     "output_type": "execute_result"
    }
   ],
   "source": [
    "def solution(name):\n",
    "    answer = 0\n",
    "    alpha =list(\"ABCDEFGHIJKLMNOPQRSTUVWXYZ\")\n",
    "    long = []\n",
    "    for one in name : \n",
    "        if alpha.index(one)<=13 :\n",
    "            long.append(alpha.index(one))\n",
    "        else : \n",
    "            long.append(26-alpha.index(one))\n",
    "\n",
    "    flag = True\n",
    "    for a in name : \n",
    "        if a!='A':\n",
    "            flag = False\n",
    "            break\n",
    "            \n",
    "    if flag == True:\n",
    "        answer = 0\n",
    "    elif name[1]=='A' or name[len(name)-1]=='A' :\n",
    "        answer = sum(long) +len(long)-2\n",
    "    else:\n",
    "        answer = sum(long) +len(long)-1\n",
    "\n",
    "\n",
    "    return answer"
   ]
  },
  {
   "cell_type": "code",
   "execution_count": null,
   "metadata": {},
   "outputs": [],
   "source": [
    "def solution(name):\n",
    "    answer = 0\n",
    "    alpha =list(\"ABCDEFGHIJKLMNOPQRSTUVWXYZ\")\n",
    "    long = []\n",
    "    \n",
    "    for one in name : \n",
    "        if alpha.index(one)<=13 :\n",
    "            long.append(alpha.index(one))\n",
    "        else : \n",
    "            long.append(26-alpha.index(one))\n",
    "\n",
    "    flag = True\n",
    "    for a in name : \n",
    "        if a!='A':\n",
    "            flag = False\n",
    "            break\n",
    "            \n",
    "    if flag == True:\n",
    "        answer = 0\n",
    "    elif name[1]=='A' or name[len(name)-1]=='A' :\n",
    "        answer = sum(long) +len(long)-2\n",
    "    else:\n",
    "        answer = sum(long) +len(long)-1\n",
    "\n",
    "\n",
    "    return answer"
   ]
  },
  {
   "cell_type": "code",
   "execution_count": 10,
   "metadata": {},
   "outputs": [],
   "source": [
    "name = \"JEROEN\"\n",
    "answer = 0\n",
    "alpha =list(\"ABCDEFGHIJKLMNOPQRSTUVWXYZ\")\n",
    "long = []"
   ]
  },
  {
   "cell_type": "code",
   "execution_count": 18,
   "metadata": {},
   "outputs": [],
   "source": [
    "name_list = list(name)\n",
    "check = [0 for _ in range(len(name_list))]\n"
   ]
  },
  {
   "cell_type": "code",
   "execution_count": 23,
   "metadata": {
    "scrolled": true
   },
   "outputs": [
    {
     "name": "stdout",
     "output_type": "stream",
     "text": [
      "[9, 4, 17, 14, 4, 13]\n"
     ]
    }
   ],
   "source": [
    "step_list = [alpha.index(temp) for temp in name ]\n",
    "print(step_list)"
   ]
  },
  {
   "cell_type": "code",
   "execution_count": null,
   "metadata": {},
   "outputs": [],
   "source": [
    "    for n in range(len(name)): \n",
    "        if name[n]=='A' and flag ==False:\n",
    "            flag = True\n",
    "            start_A = n\n",
    "        elif name[n]!='A' and flag==True :\n",
    "            flag = False\n",
    "            end_A = n\n",
    "    \n",
    "    if len(name) - end_A + start_A < end_A - start_A:\n",
    "        answer = sum(long) +len(name) - end_A + start_A "
   ]
  },
  {
   "cell_type": "code",
   "execution_count": null,
   "metadata": {},
   "outputs": [],
   "source": [
    "for a in range(len(name):\n",
    "    if name[a]=='A':\n",
    "        flag = True\n",
    "        start_a = \n",
    "    else : \n",
    "        flag = False\n",
    "        "
   ]
  },
  {
   "cell_type": "markdown",
   "metadata": {},
   "source": [
    "### 구명보트\n",
    "소팅하고 양 끝에서 하나씩꺼내장"
   ]
  },
  {
   "cell_type": "code",
   "execution_count": 26,
   "metadata": {},
   "outputs": [
    {
     "data": {
      "text/plain": [
       "3"
      ]
     },
     "execution_count": 26,
     "metadata": {},
     "output_type": "execute_result"
    }
   ],
   "source": [
    "answer=0\n",
    "people = [70, 50, 80, 50]\n",
    "limit = 100\n",
    "people.sort()\n",
    "front = 0\n",
    "end= len(people)-1\n",
    "\n",
    "while True :\n",
    "    if front>=end :\n",
    "        break\n",
    "    if people[front]+people[end]<=limit:\n",
    "        front+=1\n",
    "    answer+=1\n",
    "    end-=1\n",
    "    \n",
    "answer\n",
    "\n"
   ]
  },
  {
   "cell_type": "code",
   "execution_count": null,
   "metadata": {},
   "outputs": [],
   "source": []
  },
  {
   "cell_type": "markdown",
   "metadata": {},
   "source": [
    "### 큰수만들기\n",
    "\n",
    "- 앞부터 내가 자를 수 있는 것들 중에 잘라나간다. \n",
    "- 내 기준으로 k+1 슬라이싱 해서 4개면 5개 봐야댕\n",
    "- 즉 앞에부터 제일 큰 숫자를 꺼내서 가져온다. \n",
    "- 그 숫자 기준으로 앞은 이제 볼 필요 없으니까 자른다. \n"
   ]
  },
  {
   "cell_type": "code",
   "execution_count": 68,
   "metadata": {},
   "outputs": [
    {
     "ename": "KeyboardInterrupt",
     "evalue": "",
     "output_type": "error",
     "traceback": [
      "\u001b[1;31m---------------------------------------------------------------------------\u001b[0m",
      "\u001b[1;31mKeyboardInterrupt\u001b[0m                         Traceback (most recent call last)",
      "\u001b[1;32m<ipython-input-68-1020c5fc960d>\u001b[0m in \u001b[0;36m<module>\u001b[1;34m()\u001b[0m\n\u001b[0;32m     10\u001b[0m     \u001b[0mmaxi\u001b[0m\u001b[1;33m=\u001b[0m\u001b[1;36m0\u001b[0m\u001b[1;33m\u001b[0m\u001b[0m\n\u001b[0;32m     11\u001b[0m     \u001b[1;31m#  k+1 개씩 보고 for문을 통해 최대값의 인덱스를 뽑아낸다.\u001b[0m\u001b[1;33m\u001b[0m\u001b[1;33m\u001b[0m\u001b[0m\n\u001b[1;32m---> 12\u001b[1;33m     \u001b[1;32mfor\u001b[0m \u001b[0m_\u001b[0m \u001b[1;32min\u001b[0m \u001b[0mrange\u001b[0m\u001b[1;33m(\u001b[0m\u001b[0mk\u001b[0m\u001b[1;33m+\u001b[0m\u001b[1;36m1\u001b[0m\u001b[1;33m)\u001b[0m\u001b[1;33m:\u001b[0m\u001b[1;33m\u001b[0m\u001b[0m\n\u001b[0m\u001b[0;32m     13\u001b[0m         \u001b[1;32mif\u001b[0m \u001b[0mnumber\u001b[0m\u001b[1;33m[\u001b[0m\u001b[0mi\u001b[0m\u001b[1;33m]\u001b[0m\u001b[1;33m>\u001b[0m\u001b[0mnumber\u001b[0m\u001b[1;33m[\u001b[0m\u001b[0mmaxi\u001b[0m\u001b[1;33m]\u001b[0m \u001b[1;33m:\u001b[0m\u001b[1;33m\u001b[0m\u001b[0m\n\u001b[0;32m     14\u001b[0m             \u001b[0mmaxi\u001b[0m \u001b[1;33m=\u001b[0m \u001b[0mi\u001b[0m\u001b[1;33m\u001b[0m\u001b[0m\n",
      "\u001b[1;31mKeyboardInterrupt\u001b[0m: "
     ]
    }
   ],
   "source": [
    "number = \"4177252841\"\n",
    "k = 2\n",
    "answer = ''\n",
    "\n",
    "\n",
    "while True : \n",
    "    if k==0:\n",
    "        break\n",
    "    i=0 \n",
    "    maxi=0\n",
    "    #  k+1 개씩 보고 for문을 통해 최대값의 인덱스를 뽑아낸다. \n",
    "    for _ in range(k+1):\n",
    "        if number[i]>number[maxi] : \n",
    "            maxi = i\n",
    "        i+=1\n",
    "    # 최대값이 생기면 남기는 부분!\n",
    "    # 그 값 앞을 다 날려준다. \n",
    "    number = number[i:]\n",
    "    k-=i\n",
    "\n",
    "answer = number   \n",
    "answer"
   ]
  },
  {
   "cell_type": "raw",
   "metadata": {},
   "source": [
    "위에 처럼 하면 무한루프를 돈다,,,\n",
    "생가가해보니까 987654321 같은 경우에는\n",
    "맨 처음에서 멈춰서 거기부터 자르는게 최고인뒈 거기서 브레이크가 안된당"
   ]
  },
  {
   "cell_type": "code",
   "execution_count": 74,
   "metadata": {
    "scrolled": false
   },
   "outputs": [
    {
     "name": "stdout",
     "output_type": "stream",
     "text": [
      "k :  3\n",
      "answer :  \n",
      "look 41772\n",
      "i,: 0   number[i] 4\n",
      "i,: 1   number[i] 1\n",
      "i,: 2   number[i] 7\n",
      "i,: 3   number[i] 7\n",
      "지워야할개수 2 2 0\n",
      "k :  1\n",
      "answer :  7\n",
      "look 725\n",
      "i,: 3   number[i] 7\n",
      "i,: 4   number[i] 2\n",
      "지워야할개수 0 3 3\n",
      "k :  1\n",
      "answer :  77\n",
      "look 252\n",
      "i,: 4   number[i] 2\n",
      "i,: 5   number[i] 5\n",
      "지워야할개수 1 5 4\n"
     ]
    },
    {
     "data": {
      "text/plain": [
       "'7752841'"
      ]
     },
     "execution_count": 74,
     "metadata": {},
     "output_type": "execute_result"
    }
   ],
   "source": [
    "number = \"4177252841\"\n",
    "k = 3\n",
    "answer =''\n",
    "\n",
    "maxi=-1\n",
    "while True :\n",
    "    print(\"k : \",k)\n",
    "    print(\"answer : \",answer)\n",
    "\n",
    "        \n",
    "    # 전 루프의 최댓값 다음부터 지워야 하는 개수 (k)+1 까지 중에서\n",
    "    # 여기서의 최댓값은 보고 있는 것들 중 최대이기 때문에 일단 max는 0\n",
    "    tempmax=0 #들여다보는 부분에서의 max\n",
    "    start = maxi+1\n",
    "    print('look',number[start:start+k+1+1])\n",
    "    for i in range(start,start+k+1):\n",
    "        print(\"i,:\",i,'  number[i]' ,number[i] )\n",
    "        if int(number[i])>tempmax: # 더 큰게 나왔다는건! \n",
    "            maxi = i\n",
    "            tempmax = int(number[i]) #최댓값 저장\n",
    "    print('지워야할개수' ,(maxi-start) ,maxi,start)\n",
    "    k=k-(maxi-start) # (maxi+1-start) = 지워야 하는 인덱스 개수 = max값 앞의 값 개수\n",
    "    answer+=str(tempmax) # 최댓값을 정답에 추가한다.\n",
    "        # 더이상 지울 것이 없다면 루프를 빠져나간다. \n",
    "    if k==0:\n",
    "\n",
    "        answer=answer+(number[maxi+1:])\n",
    "        break\n",
    "answer"
   ]
  },
  {
   "cell_type": "code",
   "execution_count": 77,
   "metadata": {},
   "outputs": [
    {
     "data": {
      "text/plain": [
       "[1, 9, 2, 4]"
      ]
     },
     "execution_count": 77,
     "metadata": {},
     "output_type": "execute_result"
    }
   ],
   "source": [
    "    number ='1924'\n",
    "    number = list(number)\n",
    "    new=[]\n",
    "    for x in number:\n",
    "        new.append(int(x))\n",
    "    new"
   ]
  },
  {
   "cell_type": "code",
   "execution_count": null,
   "metadata": {},
   "outputs": [],
   "source": [
    "#되긴 하는데 시간초과\n",
    "def solution(number, k):\n",
    "    answer = ''\n",
    "\n",
    "\n",
    "    maxi=-1\n",
    "    while True :\n",
    "        tempmax=0 #들여다보는 부분에서의 max\n",
    "        start = maxi+1\n",
    "        for i in range(start,start+k+1):\n",
    "            print(\"i,:\",i,'  number[i]' ,number[i] )\n",
    "            if int(number[i])>tempmax: # 더 큰게 나왔다는건! \n",
    "                maxi = i\n",
    "                tempmax = int(number[i]) #최댓값 저장\n",
    "        print('지워야할개수' ,(maxi-start) ,maxi,start)\n",
    "        k=k-(maxi-start) # (maxi+1-start) = 지워야 하는 인덱스 개수 = max값 앞의 값 개수\n",
    "        answer+=str(tempmax) # 최댓값을 정답에 추가한다.\n",
    "            # 더이상 지울 것이 없다면 루프를 빠져나간다. \n",
    "        if k==0:\n",
    "\n",
    "            answer=answer+(number[maxi+1:])\n",
    "            break\n",
    "    \n",
    "    \n",
    "    return answer"
   ]
  },
  {
   "cell_type": "code",
   "execution_count": 81,
   "metadata": {},
   "outputs": [],
   "source": [
    "def solution(number, k):\n",
    "    answer = ''\n",
    "    new = []\n",
    "    for x in number : \n",
    "        new.append(int(x))\n",
    "        \n",
    "\n",
    "    maxi=-1\n",
    "    while True :\n",
    "        tempmax=0 #들여다보는 부분에서의 max\n",
    "        start = maxi+1\n",
    "        for i in range(start,start+k+1):\n",
    "            if new[i]>tempmax: # 더 큰게 나왔다는건! \n",
    "                maxi = i\n",
    "                tempmax = new[i] #최댓값 저장\n",
    "        k=k-(maxi-start) # (maxi-start) = 지워야 하는 인덱스 개수 = max값 앞의 값 개수\n",
    "        answer+=number[maxi] # 최댓값을 정답에 추가한다.\n",
    "            # 더이상 지울 것이 없다면 루프를 빠져나간다. \n",
    "        if k==0:\n",
    "            answer=answer+(number[maxi+1:])\n",
    "            break    \n",
    "    \n",
    "    return answer"
   ]
  },
  {
   "cell_type": "code",
   "execution_count": 15,
   "metadata": {
    "scrolled": false
   },
   "outputs": [
    {
     "data": {
      "text/plain": [
       "'12323'"
      ]
     },
     "execution_count": 15,
     "metadata": {},
     "output_type": "execute_result"
    }
   ],
   "source": [
    "number = '123234'\n",
    "number[:-1]"
   ]
  },
  {
   "cell_type": "markdown",
   "metadata": {},
   "source": [
    "### 큰 수 만들기 다시 시간초과!!!!!!!!! "
   ]
  },
  {
   "cell_type": "code",
   "execution_count": 61,
   "metadata": {},
   "outputs": [
    {
     "name": "stdout",
     "output_type": "stream",
     "text": [
      "반복 시점\n",
      "0 2 1\n",
      "추가\n",
      "반복 시점\n",
      "1 3 1\n",
      "추가\n",
      "반복 시점\n",
      "2 4 1\n",
      "추가\n",
      "반복 시점\n",
      "3 5 1\n",
      "추가\n",
      "반복 시점\n",
      "4 6 1\n",
      "추가\n",
      "반복 시점\n",
      "99999\n"
     ]
    }
   ],
   "source": [
    "number = list(\"999999\")\n",
    "k = 1\n",
    "answer = ''\n",
    "start = 0\n",
    "m = 0\n",
    "\n",
    "while True:\n",
    "    print(\"반복 시점\")\n",
    "    # 종료 시점 : 더 이상 지울 것이 없을때 \n",
    "    if k ==0 : \n",
    "        # 나오기 전에 뒤에 보지 않은 것들 정답에 추가\n",
    "        answer+=str(''.join(number[m+1:]))\n",
    "        break\n",
    "    \n",
    "    # 더이상 볼 필요가 없을 때 \n",
    "    if start+k+1>len(number):\n",
    "        break    \n",
    "        \n",
    "    # 루프를 다 돌아서 최댓값의 인덱스를 찾는다. \n",
    "    m = start # 매번루프를 돌 때마다 시작 인덱스는 처음\n",
    "    print(start, start+k+1, k)\n",
    "        \n",
    "    for i in range(start,start+k+1):# start 부터 k+1개를 탐색하여\n",
    "        if number[m]<number[i]: \n",
    "            m = i\n",
    "    \n",
    "    #만약 맨 처음이 가장 큰 경우 \n",
    "    if m ==start:\n",
    "        print('추가')\n",
    "        answer+=(number[start]) # 맨 처음이 숫자가 되고\n",
    "        start =m+1 # 시작점 하나 뒤로 늦춰준다. \n",
    "    else : # 중간에 큰 부분이 나오면\n",
    "        answer+=(str(number[m])) # 제일 큰 부분이 숫자가 되고      \n",
    "        k = k-(m-start) #지워야 하는 숫자 수를 자\n",
    "        start = m+1 #시작점은 그 다음부터 \n",
    "        \n",
    "print(answer)"
   ]
  },
  {
   "cell_type": "markdown",
   "metadata": {},
   "source": [
    "위 코드 시간초과1,\n",
    "런타임에러 1"
   ]
  },
  {
   "cell_type": "code",
   "execution_count": 58,
   "metadata": {},
   "outputs": [],
   "source": [
    "def solution(number,k):\n",
    "    answer = ''\n",
    "    start = 0\n",
    "    m = 0\n",
    "    \n",
    "\n",
    "    while True:\n",
    "        # 종료 시점 : 더 이상 지울 것이 없을때 \n",
    "        if k ==0 : \n",
    "            # 나오기 전에 뒤에 보지 않은 것들 정답에 추가\n",
    "            answer+=str(''.join(number[m+1:]))\n",
    "            break\n",
    "        \n",
    "        # 더이상 볼 필요가 없을 때 \n",
    "        if start+k+1>len(number):\n",
    "            break    \n",
    "\n",
    "        # 루프를 다 돌아서 최댓값의 인덱스를 찾는다. \n",
    "        m = start # 매번루프를 돌 때마다 시작 인덱스는 처음\n",
    "        for i in range(start,start+(k+1)):# start 부터 k+1개를 탐색하여\n",
    "            if number[m]<number[i]: \n",
    "                m = i\n",
    "\n",
    "        #만약 맨 처음이 가장 큰 경우 \n",
    "        if m ==start:\n",
    "            answer+=(number[start]) # 맨 처음이 숫자가 되고\n",
    "            start =m+1 # 시작점 하나 뒤로 늦춰준다. \n",
    "        else : # 중간에 큰 부분이 나오면\n",
    "            answer+=(str(number[m])) # 제일 큰 부분이 숫자가 되고      \n",
    "            k = k-(m-start) #지워야 하는 숫자 수를 자른 수만큼 절감\n",
    "            start = m+1 #시작점은 그 다음부터 \n",
    "\n",
    "    if answer =='':\n",
    "        return '0'\n",
    "    else:\n",
    "        return answer"
   ]
  },
  {
   "cell_type": "markdown",
   "metadata": {},
   "source": [
    "### 단속카메라"
   ]
  },
  {
   "cell_type": "code",
   "execution_count": null,
   "metadata": {},
   "outputs": [],
   "source": []
  },
  {
   "cell_type": "markdown",
   "metadata": {},
   "source": [
    "# 사진 찍어야행"
   ]
  },
  {
   "cell_type": "markdown",
   "metadata": {},
   "source": [
    "### 저울\n",
    "-  "
   ]
  }
 ],
 "metadata": {
  "kernelspec": {
   "display_name": "Python 3",
   "language": "python",
   "name": "python3"
  },
  "language_info": {
   "codemirror_mode": {
    "name": "ipython",
    "version": 3
   },
   "file_extension": ".py",
   "mimetype": "text/x-python",
   "name": "python",
   "nbconvert_exporter": "python",
   "pygments_lexer": "ipython3",
   "version": "3.6.5"
  }
 },
 "nbformat": 4,
 "nbformat_minor": 2
}

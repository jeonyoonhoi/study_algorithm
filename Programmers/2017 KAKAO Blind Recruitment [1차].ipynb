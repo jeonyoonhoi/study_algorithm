{
 "cells": [
  {
   "cell_type": "markdown",
   "metadata": {},
   "source": [
    "# [1차] 뉴스 클러스터링"
   ]
  },
  {
   "cell_type": "markdown",
   "metadata": {},
   "source": [
    "#### 파이썬 알파벳 확인\n",
    "- String.isalpha()\n",
    "\n",
    "#### 대/소문자화\n",
    "- String.lower()\n",
    "- String.upper()\n",
    "- 알파벳 대소문자 외에는 그냥 무시함\n",
    "\n",
    "\n",
    "#### 파이썬 교집합과 합집합\n",
    "[집합자료형](https://wikidocs.net/1015)\n",
    "- 근데 여기선 중복을 써야해서 set 쓰지 못한다 흑"
   ]
  },
  {
   "cell_type": "code",
   "execution_count": 1,
   "metadata": {},
   "outputs": [
    {
     "data": {
      "text/plain": [
       "True"
      ]
     },
     "execution_count": 1,
     "metadata": {},
     "output_type": "execute_result"
    }
   ],
   "source": [
    "'alpha'.isalpha()"
   ]
  },
  {
   "cell_type": "code",
   "execution_count": 4,
   "metadata": {},
   "outputs": [
    {
     "data": {
      "text/plain": [
       "'kilo 3meter'"
      ]
     },
     "execution_count": 4,
     "metadata": {},
     "output_type": "execute_result"
    }
   ],
   "source": [
    "'Kilo 3Meter'.lower()"
   ]
  },
  {
   "cell_type": "code",
   "execution_count": 11,
   "metadata": {},
   "outputs": [
    {
     "data": {
      "text/plain": [
       "['K', 'I', 'L', 'O', 'M', 'M', 'E', 'T', 'E', 'R']"
      ]
     },
     "execution_count": 11,
     "metadata": {},
     "output_type": "execute_result"
    }
   ],
   "source": [
    "before = \"KiloM 3 Meter\"\n",
    "after = [x.upper() for x in before if x.isalpha()]\n",
    "after\n"
   ]
  },
  {
   "cell_type": "code",
   "execution_count": 12,
   "metadata": {},
   "outputs": [],
   "source": [
    "set1 = []\n",
    "for i in range(len(after)-1):\n",
    "    temp = after[i]+after[i+1]\n",
    "    set1.append(temp)"
   ]
  },
  {
   "cell_type": "code",
   "execution_count": 13,
   "metadata": {},
   "outputs": [
    {
     "data": {
      "text/plain": [
       "['KI', 'IL', 'LO', 'OM', 'MM', 'ME', 'ET', 'TE', 'ER']"
      ]
     },
     "execution_count": 13,
     "metadata": {},
     "output_type": "execute_result"
    }
   ],
   "source": [
    "set1"
   ]
  },
  {
   "cell_type": "code",
   "execution_count": 17,
   "metadata": {},
   "outputs": [],
   "source": [
    "# 아무 문자열 넣으면 두글자 set반환\n",
    "def before_return_two_set(before):\n",
    "    mid = [x.upper() for x in before if x.isalpha()]\n",
    "    after = []\n",
    "    \n",
    "    for i in range(len(mid)-1):\n",
    "        temp = mid[i]+mid[i+1]\n",
    "        after.append(temp)\n",
    "    return after "
   ]
  },
  {
   "cell_type": "code",
   "execution_count": 19,
   "metadata": {},
   "outputs": [],
   "source": [
    "str1 = 'handsahke'\n",
    "str2 = 'shake hands'"
   ]
  },
  {
   "cell_type": "code",
   "execution_count": 20,
   "metadata": {},
   "outputs": [],
   "source": [
    "set1 = before_return_two_set(str1)\n",
    "set2 = before_return_two_set(str2)"
   ]
  },
  {
   "cell_type": "code",
   "execution_count": 21,
   "metadata": {},
   "outputs": [
    {
     "data": {
      "text/plain": [
       "['HA', 'AN', 'ND', 'DS', 'SH', 'HA', 'AK', 'KE']"
      ]
     },
     "execution_count": 21,
     "metadata": {},
     "output_type": "execute_result"
    }
   ],
   "source": [
    "set1"
   ]
  },
  {
   "cell_type": "code",
   "execution_count": 22,
   "metadata": {},
   "outputs": [
    {
     "data": {
      "text/plain": [
       "['SH', 'HA', 'AK', 'KE', 'EH', 'HA', 'AN', 'ND', 'DS']"
      ]
     },
     "execution_count": 22,
     "metadata": {},
     "output_type": "execute_result"
    }
   ],
   "source": [
    "set2"
   ]
  },
  {
   "cell_type": "code",
   "execution_count": 23,
   "metadata": {},
   "outputs": [
    {
     "data": {
      "text/plain": [
       "False"
      ]
     },
     "execution_count": 23,
     "metadata": {},
     "output_type": "execute_result"
    }
   ],
   "source": [
    "set1 ==set2"
   ]
  },
  {
   "cell_type": "raw",
   "metadata": {},
   "source": [
    "하단 알고리즘 틀ㄹ임 handshake와 shake  hands 가 다르게 나옴 먼저 알파벳 외를 다 지울것이 아니라\n",
    "알파벳인지 확인하고\n",
    "다음 글자도 알파벳인지 확인해서\n",
    "그 둘을 =리스트에 넣는 식으로 해 야한다. "
   ]
  },
  {
   "cell_type": "code",
   "execution_count": null,
   "metadata": {},
   "outputs": [],
   "source": [
    "# 이 알고리즘은 틀렸다,,, \n",
    "\n",
    "    answer = 0\n",
    "    set1 = []\n",
    "    set2 = []    \n",
    "    \n",
    "    #주어진 문자열에서 알파벳으로만 이루어진 리스트를 대문자로만 만듦\n",
    "    mid1 = [x.upper() for x in str1 if x.isalpha()]\n",
    "    mid2 = [x.upper() for x in str2 if x.isalpha()]\n",
    "    \n",
    "    # 두개씩 묶어서 세트를 만듦\n",
    "    for i in range(len(mid1)-1):\n",
    "        temp = mid1[i]+mid1[i+1]\n",
    "        set1.append(temp)        \n",
    "    for i in range(len(mid2)-1):\n",
    "        temp = mid2[i]+mid2[i+1]\n",
    "        set2.append(temp)"
   ]
  },
  {
   "cell_type": "code",
   "execution_count": 28,
   "metadata": {},
   "outputs": [],
   "source": [
    "    set1=[]\n",
    "    for i in range(len(str1)-1):\n",
    "        if str1[i].isalpha() and str1[i+1].isalpha():\n",
    "            set1.append(str1[i:i+2])\n",
    "    set2=[]\n",
    "    for i in range(len(str2)-1):\n",
    "        if str2[i].isalpha() and str2[i+1].isalpha():\n",
    "            set2.append(str2[i:i+2])"
   ]
  },
  {
   "cell_type": "code",
   "execution_count": 26,
   "metadata": {},
   "outputs": [
    {
     "data": {
      "text/plain": [
       "['ha', 'an', 'nd', 'ds', 'sh', 'ha', 'ak', 'ke']"
      ]
     },
     "execution_count": 26,
     "metadata": {},
     "output_type": "execute_result"
    }
   ],
   "source": [
    "set1"
   ]
  },
  {
   "cell_type": "code",
   "execution_count": 29,
   "metadata": {},
   "outputs": [
    {
     "data": {
      "text/plain": [
       "['sh', 'ha', 'ak', 'ke', 'ha', 'an', 'nd', 'ds']"
      ]
     },
     "execution_count": 29,
     "metadata": {},
     "output_type": "execute_result"
    }
   ],
   "source": [
    "set2"
   ]
  },
  {
   "cell_type": "code",
   "execution_count": 30,
   "metadata": {},
   "outputs": [
    {
     "data": {
      "text/plain": [
       "False"
      ]
     },
     "execution_count": 30,
     "metadata": {},
     "output_type": "execute_result"
    }
   ],
   "source": [
    "set1==set2"
   ]
  },
  {
   "cell_type": "code",
   "execution_count": 52,
   "metadata": {},
   "outputs": [],
   "source": [
    "dict1 = dict()\n",
    "\n",
    "dict2 = dict()\n"
   ]
  },
  {
   "cell_type": "code",
   "execution_count": 53,
   "metadata": {},
   "outputs": [],
   "source": [
    "#합집합 딕셔너리를 만들어보자,,\n",
    "for temp in set1:\n",
    "    key_list = list(dict1.keys())\n",
    "    if temp in dict1:\n",
    "        dict1[temp] +=1\n",
    "    else:\n",
    "        dict1[temp] = 1\n",
    "\n",
    "for temp in set2:\n",
    "    key_list = list(dict2.keys())\n",
    "    if temp in dict2:\n",
    "        dict2[temp] +=1\n",
    "    else:\n",
    "        dict2[temp] = 1\n",
    "    \n",
    "    \n",
    "    "
   ]
  },
  {
   "cell_type": "code",
   "execution_count": 55,
   "metadata": {
    "scrolled": true
   },
   "outputs": [
    {
     "name": "stdout",
     "output_type": "stream",
     "text": [
      "{'ha': 2, 'an': 1, 'nd': 1, 'ds': 1, 'sh': 1, 'ak': 1, 'ke': 1}\n",
      "{'sh': 1, 'ha': 2, 'ak': 1, 'ke': 1, 'an': 1, 'nd': 1, 'ds': 1}\n"
     ]
    }
   ],
   "source": [
    "print(dict1)\n",
    "print(dict2)"
   ]
  },
  {
   "cell_type": "code",
   "execution_count": 56,
   "metadata": {},
   "outputs": [],
   "source": [
    "# 교집합은 둘중 하나 기준으로 보면 댐~!\n",
    "internum = 0\n",
    "dict2_list = list(dict2.keys())\n",
    "for inter in dict1:\n",
    "    if inter in dict2_list:\n",
    "        internum+=min(dict1[inter],dict2[inter]) # 둘 중 작은거 적용 \n",
    "\n",
    "\n",
    "if internum==0:\n",
    "    uninum =1\n",
    "    return 0\n",
    "else:\n",
    "    uninum = 0\n",
    "\n",
    "uni_dict = dict1\n"
   ]
  },
  {
   "cell_type": "code",
   "execution_count": 57,
   "metadata": {},
   "outputs": [
    {
     "data": {
      "text/plain": [
       "8"
      ]
     },
     "execution_count": 57,
     "metadata": {},
     "output_type": "execute_result"
    }
   ],
   "source": [
    "internum"
   ]
  },
  {
   "cell_type": "code",
   "execution_count": 61,
   "metadata": {},
   "outputs": [],
   "source": [
    "import copy\n",
    "uni_dict = copy.deepcopy(dict1)"
   ]
  },
  {
   "cell_type": "code",
   "execution_count": 63,
   "metadata": {},
   "outputs": [],
   "source": [
    "\n",
    "    for uni in dict2:\n",
    "        key_list=list(uni_dict.keys())\n",
    "        if uni in key_list:\n",
    "            #만약 이미 키가 존재하면\n",
    "            #새로넣으려는 값과 이미 있던 값 중 최댓값을 넣는다.\n",
    "            uni_dict[uni]=max(uni_dict[uni],dict2[uni])\n",
    "\n",
    "        else : \n",
    "            uni_dict[uni] =dict2[uni]\n"
   ]
  },
  {
   "cell_type": "code",
   "execution_count": 64,
   "metadata": {},
   "outputs": [
    {
     "data": {
      "text/plain": [
       "{'ha': 2, 'an': 1, 'nd': 1, 'ds': 1, 'sh': 1, 'ak': 1, 'ke': 1}"
      ]
     },
     "execution_count": 64,
     "metadata": {},
     "output_type": "execute_result"
    }
   ],
   "source": [
    "uni_dict\n"
   ]
  },
  {
   "cell_type": "code",
   "execution_count": 67,
   "metadata": {},
   "outputs": [],
   "source": [
    "uni_value = sum(uni_dict.values())"
   ]
  },
  {
   "cell_type": "code",
   "execution_count": 5,
   "metadata": {},
   "outputs": [],
   "source": [
    "import copy\n",
    "def solution(str1, str2):\n",
    "    answer = 0\n",
    "    \n",
    "    # \n",
    "    set1=[]\n",
    "    for i in range(len(str1)-1):\n",
    "        if str1[i].isalpha() and str1[i+1].isalpha():\n",
    "            set1.append(str1[i:i+2].lower())\n",
    "    set2=[]\n",
    "    for i in range(len(str2)-1):\n",
    "        if str2[i].isalpha() and str2[i+1].isalpha():\n",
    "            set2.append(str2[i:i+2].lower())\n",
    "    \n",
    "    dict1 = dict()\n",
    "    dict2 = dict()\n",
    "    \n",
    "    #합집합 딕셔너리를 만들어보자,,\n",
    "    for temp in set1:\n",
    "        key_list = list(dict1.keys())\n",
    "        if temp in dict1:\n",
    "            dict1[temp] +=1\n",
    "        else:\n",
    "            dict1[temp] = 1\n",
    "\n",
    "    for temp in set2:\n",
    "        key_list = list(dict2.keys())\n",
    "        if temp in dict2:\n",
    "            dict2[temp] +=1\n",
    "        else:\n",
    "            dict2[temp] = 1\n",
    "    # 공집합은 1 예외 처리\n",
    "    if len(dict2)==0 and len(dict1)==0:\n",
    "        internum=1\n",
    "        uninum = 1\n",
    "        return int((internum/uninum)*65536)\n",
    "\n",
    "        \n",
    "        \n",
    "        \n",
    "\n",
    "    # 교집합은 둘중 하나 기준으로 보면 댐~!\n",
    "    internum = 0\n",
    "    dict2_list = list(dict2.keys())\n",
    "    for inter in dict1:\n",
    "        if inter in dict2_list:\n",
    "            internum+=min(dict1[inter],dict2[inter]) # 둘 중 작은거 적용 \n",
    "    \n",
    "\n",
    "    # 이제 합집합\n",
    "    uni_dict = copy.deepcopy(dict1)\n",
    "    \n",
    "    for uni in dict2:\n",
    "        key_list=list(uni_dict.keys())\n",
    "        if uni in key_list:\n",
    "            #만약 이미 키가 존재하면\n",
    "            #새로넣으려는 값과 이미 있던 값 중 최댓값을 넣는다.\n",
    "            uni_dict[uni]=max(uni_dict[uni],dict2[uni])\n",
    "\n",
    "        else : \n",
    "            uni_dict[uni] =dict2[uni]\n",
    "   \n",
    "\n",
    "    if internum==0:        \n",
    "        uninum =1\n",
    "    else:\n",
    "        uninum = sum(uni_dict.values())\n",
    "    \n",
    "    \n",
    "    answer = int((internum/uninum)*65536)\n",
    "    \n",
    "    return answer"
   ]
  },
  {
   "cell_type": "code",
   "execution_count": 1,
   "metadata": {},
   "outputs": [],
   "source": [
    "x = dict()"
   ]
  },
  {
   "cell_type": "code",
   "execution_count": 2,
   "metadata": {},
   "outputs": [
    {
     "data": {
      "text/plain": [
       "0"
      ]
     },
     "execution_count": 2,
     "metadata": {},
     "output_type": "execute_result"
    }
   ],
   "source": [
    "len(x)"
   ]
  },
  {
   "cell_type": "code",
   "execution_count": 3,
   "metadata": {},
   "outputs": [],
   "source": [
    "y=list(x.keys())"
   ]
  },
  {
   "cell_type": "code",
   "execution_count": 4,
   "metadata": {},
   "outputs": [
    {
     "data": {
      "text/plain": [
       "[]"
      ]
     },
     "execution_count": 4,
     "metadata": {},
     "output_type": "execute_result"
    }
   ],
   "source": [
    "y"
   ]
  },
  {
   "cell_type": "code",
   "execution_count": 13,
   "metadata": {},
   "outputs": [],
   "source": [
    "\n",
    "global m\n",
    "global n\n",
    "global game\n",
    "\n",
    "def check(m,n,game):\n",
    "    # game 판을 돌면서 i, j 를 확인하고 ck list 에 저장한다. \n",
    "    check_list=[]\n",
    "    flag = False\n",
    "    for i in range(m-2):\n",
    "        for j in range(n-2):\n",
    "            print(i,j,game[i][j])\n",
    "            if game[i][j]==game[i][j+1] and game[i][j]==[i+1][j] and game[i][j]==game[i+1][j+1] :\n",
    "                flag = True\n",
    "                check_list.append([i,j])\n",
    "    \n",
    "    return flag, check_list\n",
    "\n",
    "\n",
    "def change(m,n,game,check_list):             \n",
    "    for temp in check_list:\n",
    "        game[temp[0]][temp[1]] = -1\n",
    "        game[temp[0]+1][temp[1]] = -1\n",
    "        game[temp[0]][temp[1]+1] = -1\n",
    "        game[temp[0]+1][temp[1]+1] = -1\n",
    "    return game\n",
    "\n",
    "def move(m,n,game):\n",
    "    for i in range(m,1,-1): \n",
    "        for j in range(n):\n",
    "            if game[i][j]==-1:\n",
    "                game[i][j]=game[i-1][j] #윗 칸 아래로 옮기고\n",
    "                game[i-1][j]=-1 # 윗칸은 -1\n",
    "    return game\n",
    "\n",
    "\n",
    "\n",
    "def get_erase_number(m,n,game):\n",
    "    \n",
    "    a=0\n",
    "    for i in range(m):\n",
    "        for j in range(n):\n",
    "            if game[m][n]==-1:\n",
    "                a+=1\n",
    "    return a\n",
    "\n",
    "def solution(M, N, board):\n",
    "    m,n = M,N\n",
    "    answer = 0\n",
    "    game = board\n",
    "\n",
    "    print(game)\n",
    "    check_list = []\n",
    "    \n",
    "    while True:\n",
    "        flag = False \n",
    "        #만약 변경사항이 있으면 True\n",
    "    \n",
    "        # 1. check : game을 넣으면 flag랑 checklist 반환하는 함수\n",
    "        flag, check_list = check(m,n,game)\n",
    "\n",
    "        if flag :\n",
    "            break\n",
    "\n",
    "        # 2. 체크해뒀던 부분을 -1로 바꾼다. \n",
    "        game = change(m,n,game, check_list)\n",
    "\n",
    "        # 3.아래부터 봐서 채우기!\n",
    "        game= move(m,n,game)\n",
    "\n",
    "    # -1의 개수를 세주고 리턴하는 함수\n",
    "    answer = get_erase_number(m,n,game)\n",
    "    return answer"
   ]
  },
  {
   "cell_type": "code",
   "execution_count": 14,
   "metadata": {},
   "outputs": [
    {
     "name": "stdout",
     "output_type": "stream",
     "text": [
      "['TTTANT', 'RRFACC', 'RRRFCC', 'TRRRAA', 'TTMMMF', 'TMMTTJ']\n",
      "0 0 T\n",
      "0 1 T\n"
     ]
    },
    {
     "ename": "IndexError",
     "evalue": "list index out of range",
     "output_type": "error",
     "traceback": [
      "\u001b[1;31m---------------------------------------------------------------------------\u001b[0m",
      "\u001b[1;31mIndexError\u001b[0m                                Traceback (most recent call last)",
      "\u001b[1;32m<ipython-input-14-7c10b78ef7b6>\u001b[0m in \u001b[0;36m<module>\u001b[1;34m()\u001b[0m\n\u001b[1;32m----> 1\u001b[1;33m \u001b[0msolution\u001b[0m\u001b[1;33m(\u001b[0m\u001b[1;36m6\u001b[0m\u001b[1;33m,\u001b[0m\u001b[1;36m6\u001b[0m\u001b[1;33m,\u001b[0m\u001b[1;33m[\u001b[0m\u001b[1;34m\"TTTANT\"\u001b[0m\u001b[1;33m,\u001b[0m \u001b[1;34m\"RRFACC\"\u001b[0m\u001b[1;33m,\u001b[0m \u001b[1;34m\"RRRFCC\"\u001b[0m\u001b[1;33m,\u001b[0m \u001b[1;34m\"TRRRAA\"\u001b[0m\u001b[1;33m,\u001b[0m \u001b[1;34m\"TTMMMF\"\u001b[0m\u001b[1;33m,\u001b[0m \u001b[1;34m\"TMMTTJ\"\u001b[0m\u001b[1;33m]\u001b[0m\u001b[1;33m)\u001b[0m\u001b[1;33m\u001b[0m\u001b[0m\n\u001b[0m",
      "\u001b[1;32m<ipython-input-13-1f55cbde9ae4>\u001b[0m in \u001b[0;36msolution\u001b[1;34m(M, N, board)\u001b[0m\n\u001b[0;32m     58\u001b[0m \u001b[1;33m\u001b[0m\u001b[0m\n\u001b[0;32m     59\u001b[0m         \u001b[1;31m# 1. check : game을 넣으면 flag랑 checklist 반환하는 함수\u001b[0m\u001b[1;33m\u001b[0m\u001b[1;33m\u001b[0m\u001b[0m\n\u001b[1;32m---> 60\u001b[1;33m         \u001b[0mflag\u001b[0m\u001b[1;33m,\u001b[0m \u001b[0mcheck_list\u001b[0m \u001b[1;33m=\u001b[0m \u001b[0mcheck\u001b[0m\u001b[1;33m(\u001b[0m\u001b[0mm\u001b[0m\u001b[1;33m,\u001b[0m\u001b[0mn\u001b[0m\u001b[1;33m,\u001b[0m\u001b[0mgame\u001b[0m\u001b[1;33m)\u001b[0m\u001b[1;33m\u001b[0m\u001b[0m\n\u001b[0m\u001b[0;32m     61\u001b[0m \u001b[1;33m\u001b[0m\u001b[0m\n\u001b[0;32m     62\u001b[0m         \u001b[1;32mif\u001b[0m \u001b[0mflag\u001b[0m \u001b[1;33m:\u001b[0m\u001b[1;33m\u001b[0m\u001b[0m\n",
      "\u001b[1;32m<ipython-input-13-1f55cbde9ae4>\u001b[0m in \u001b[0;36mcheck\u001b[1;34m(m, n, game)\u001b[0m\n\u001b[0;32m     11\u001b[0m         \u001b[1;32mfor\u001b[0m \u001b[0mj\u001b[0m \u001b[1;32min\u001b[0m \u001b[0mrange\u001b[0m\u001b[1;33m(\u001b[0m\u001b[0mn\u001b[0m\u001b[1;33m-\u001b[0m\u001b[1;36m2\u001b[0m\u001b[1;33m)\u001b[0m\u001b[1;33m:\u001b[0m\u001b[1;33m\u001b[0m\u001b[0m\n\u001b[0;32m     12\u001b[0m             \u001b[0mprint\u001b[0m\u001b[1;33m(\u001b[0m\u001b[0mi\u001b[0m\u001b[1;33m,\u001b[0m\u001b[0mj\u001b[0m\u001b[1;33m,\u001b[0m\u001b[0mgame\u001b[0m\u001b[1;33m[\u001b[0m\u001b[0mi\u001b[0m\u001b[1;33m]\u001b[0m\u001b[1;33m[\u001b[0m\u001b[0mj\u001b[0m\u001b[1;33m]\u001b[0m\u001b[1;33m)\u001b[0m\u001b[1;33m\u001b[0m\u001b[0m\n\u001b[1;32m---> 13\u001b[1;33m             \u001b[1;32mif\u001b[0m \u001b[0mgame\u001b[0m\u001b[1;33m[\u001b[0m\u001b[0mi\u001b[0m\u001b[1;33m]\u001b[0m\u001b[1;33m[\u001b[0m\u001b[0mj\u001b[0m\u001b[1;33m]\u001b[0m\u001b[1;33m==\u001b[0m\u001b[0mgame\u001b[0m\u001b[1;33m[\u001b[0m\u001b[0mi\u001b[0m\u001b[1;33m]\u001b[0m\u001b[1;33m[\u001b[0m\u001b[0mj\u001b[0m\u001b[1;33m+\u001b[0m\u001b[1;36m1\u001b[0m\u001b[1;33m]\u001b[0m \u001b[1;32mand\u001b[0m \u001b[0mgame\u001b[0m\u001b[1;33m[\u001b[0m\u001b[0mi\u001b[0m\u001b[1;33m]\u001b[0m\u001b[1;33m[\u001b[0m\u001b[0mj\u001b[0m\u001b[1;33m]\u001b[0m\u001b[1;33m==\u001b[0m\u001b[1;33m[\u001b[0m\u001b[0mi\u001b[0m\u001b[1;33m+\u001b[0m\u001b[1;36m1\u001b[0m\u001b[1;33m]\u001b[0m\u001b[1;33m[\u001b[0m\u001b[0mj\u001b[0m\u001b[1;33m]\u001b[0m \u001b[1;32mand\u001b[0m \u001b[0mgame\u001b[0m\u001b[1;33m[\u001b[0m\u001b[0mi\u001b[0m\u001b[1;33m]\u001b[0m\u001b[1;33m[\u001b[0m\u001b[0mj\u001b[0m\u001b[1;33m]\u001b[0m\u001b[1;33m==\u001b[0m\u001b[0mgame\u001b[0m\u001b[1;33m[\u001b[0m\u001b[0mi\u001b[0m\u001b[1;33m+\u001b[0m\u001b[1;36m1\u001b[0m\u001b[1;33m]\u001b[0m\u001b[1;33m[\u001b[0m\u001b[0mj\u001b[0m\u001b[1;33m+\u001b[0m\u001b[1;36m1\u001b[0m\u001b[1;33m]\u001b[0m \u001b[1;33m:\u001b[0m\u001b[1;33m\u001b[0m\u001b[0m\n\u001b[0m\u001b[0;32m     14\u001b[0m                 \u001b[0mflag\u001b[0m \u001b[1;33m=\u001b[0m \u001b[1;32mTrue\u001b[0m\u001b[1;33m\u001b[0m\u001b[0m\n\u001b[0;32m     15\u001b[0m                 \u001b[0mcheck_list\u001b[0m\u001b[1;33m.\u001b[0m\u001b[0mappend\u001b[0m\u001b[1;33m(\u001b[0m\u001b[1;33m[\u001b[0m\u001b[0mi\u001b[0m\u001b[1;33m,\u001b[0m\u001b[0mj\u001b[0m\u001b[1;33m]\u001b[0m\u001b[1;33m)\u001b[0m\u001b[1;33m\u001b[0m\u001b[0m\n",
      "\u001b[1;31mIndexError\u001b[0m: list index out of range"
     ]
    }
   ],
   "source": [
    "solution(6,6,[\"TTTANT\", \"RRFACC\", \"RRRFCC\", \"TRRRAA\", \"TTMMMF\", \"TMMTTJ\"])"
   ]
  },
  {
   "cell_type": "markdown",
   "metadata": {},
   "source": [
    "# 비밀지도"
   ]
  },
  {
   "cell_type": "code",
   "execution_count": 4,
   "metadata": {},
   "outputs": [],
   "source": [
    "n=6\n",
    "arr1=[46, 33, 33 ,22, 31, 50]\n",
    "arr2=[27 ,56, 19, 14, 14, 10]"
   ]
  },
  {
   "cell_type": "code",
   "execution_count": 40,
   "metadata": {},
   "outputs": [],
   "source": [
    "def solution(n, arr1, arr2):\n",
    "    answer = []\n",
    "    arr3 = [[' ' for _ in range(n)] for y in range(n)]\n",
    "\n",
    "    for i in range(n) : \n",
    "        a = arr1[i]\n",
    "        b = arr2[i]\n",
    "        for j in range(n-1,-1,-1):\n",
    "            q_a,r_a ,q_b,r_b = a//2,a%2,b//2,b%2\n",
    "            if (r_a or r_b):\n",
    "                arr3[i][j]='#' \n",
    "            a,b = q_a,q_b\n",
    "            \n",
    "        answer.append(''.join(arr3[i]))\n",
    "    \n",
    "    return answer"
   ]
  },
  {
   "cell_type": "code",
   "execution_count": 41,
   "metadata": {},
   "outputs": [
    {
     "data": {
      "text/plain": [
       "['######', '###  #', '##  ##', ' #### ', ' #####', '### # ']"
      ]
     },
     "execution_count": 41,
     "metadata": {},
     "output_type": "execute_result"
    }
   ],
   "source": [
    "solution(n,arr1,arr2)"
   ]
  },
  {
   "cell_type": "markdown",
   "metadata": {},
   "source": [
    "# 다트게임"
   ]
  },
  {
   "cell_type": "code",
   "execution_count": 96,
   "metadata": {},
   "outputs": [
    {
     "name": "stdout",
     "output_type": "stream",
     "text": [
      "True\n",
      "False\n",
      "False\n"
     ]
    }
   ],
   "source": [
    "#isdigit() : 정수 True 반환ㅇ\\|\n",
    "\n",
    "x = ['3','D','*']\n",
    "for t in x:\n",
    "    print(t.isdigit())"
   ]
  },
  {
   "cell_type": "code",
   "execution_count": null,
   "metadata": {},
   "outputs": [],
   "source": []
  },
  {
   "cell_type": "code",
   "execution_count": 119,
   "metadata": {
    "scrolled": true
   },
   "outputs": [
    {
     "name": "stdout",
     "output_type": "stream",
     "text": [
      "1\n",
      "2\n",
      "pow2 는  4\n",
      "3\n",
      "pow3 는  27\n",
      "[2, 8, 27]\n"
     ]
    }
   ],
   "source": [
    "num= [0,0,0]\n",
    "index =-1\n",
    "for x in score : \n",
    "    \n",
    "    if x.isdigit():        # 숫자일떈 이롷게\n",
    "        index+=1\n",
    "        num[index] = int(x)\n",
    "        print(x)\n",
    "    elif x.isalpha(): #알파벳 Single Double Tripple\n",
    "        #if x=='S':\n",
    "            # 1제곱 이기 때문에 그대로\n",
    "        if x=='D':\n",
    "            num[index]=pow(num[index],2)\n",
    "            print(\"pow2 는 \",(num[index]))\n",
    "        elif x=='T':\n",
    "            num[index]=pow(num[index],3)\n",
    "            print(\"pow3 는 \",(num[index]))\n",
    "            \n",
    "    else : # *,,#\n",
    "        if x =='*': #지금, 이전 *2\n",
    "            if index==0: #첫번째일떈 지금만\n",
    "                num[index]*=2\n",
    "            else : \n",
    "                num[index-1]*=2\n",
    "                num[index]*=2\n",
    "        elif x =='#' : # 지금 *(-1)\n",
    "            num[index]*=(-1)\n",
    "\n",
    "print(num)\n",
    "        \n",
    "        "
   ]
  },
  {
   "cell_type": "code",
   "execution_count": 120,
   "metadata": {},
   "outputs": [],
   "source": [
    "dartResult =  \"1S2D*3T\"\n",
    "# 질문은 10 처리하는법"
   ]
  },
  {
   "cell_type": "code",
   "execution_count": 116,
   "metadata": {},
   "outputs": [
    {
     "name": "stdout",
     "output_type": "stream",
     "text": [
      "x==1 이라서 save=1\n",
      "둘 다 아니라서\n",
      "일단 저장해놓은 save 추가하고 플래그 바꾸\n",
      "save : False\n",
      "둘 다 아니라서\n",
      "둘 다 아니라서\n",
      "둘 다 아니라서\n",
      "둘 다 아니라서\n",
      "둘 다 아니라서\n"
     ]
    }
   ],
   "source": [
    "save =False\n",
    "score=[]\n",
    "\n",
    "for x in dartResult:\n",
    "\n",
    "    if save and x=='0':\n",
    "        print(\"10 추가하고 save 바꾸기\")\n",
    "        score.append('10')\n",
    "        save = False\n",
    "    elif x =='1':\n",
    "        print(\"x==1 이라서 save=1\")\n",
    "        save =1\n",
    "    else : \n",
    "        print(\"둘 다 아니라서\")\n",
    "        if save:\n",
    "            print(\"일단 저장해놓은 save 추가하고 플래그 바꾸\")\n",
    "            score.append('1') \n",
    "            save = not(save)\n",
    "            print(\"save :\",save)\n",
    "        score.append(x)\n",
    "        "
   ]
  },
  {
   "cell_type": "code",
   "execution_count": 117,
   "metadata": {},
   "outputs": [
    {
     "data": {
      "text/plain": [
       "['1', 'S', '2', 'D', '*', '3', 'T']"
      ]
     },
     "execution_count": 117,
     "metadata": {},
     "output_type": "execute_result"
    }
   ],
   "source": [
    "score"
   ]
  },
  {
   "cell_type": "code",
   "execution_count": 106,
   "metadata": {
    "scrolled": true
   },
   "outputs": [
    {
     "name": "stdout",
     "output_type": "stream",
     "text": [
      "['1', 'D', '2', 'T', '#', '10', 'S']\n",
      "0 1\n",
      "[1, 0, 0]\n",
      "pow2 는  1\n",
      "1 2\n",
      "[1, 2, 0]\n",
      "2\n",
      "pow3 는  8\n",
      "2 10\n",
      "[1, -8, 10]\n",
      "[1, -8, 10]\n"
     ]
    }
   ],
   "source": [
    "def solution(dartResult):\n",
    "    save =False\n",
    "    score=[]\n",
    "    for x in dartResult:\n",
    "\n",
    "        if save and x=='0':\n",
    "            score.append('10')\n",
    "            save = False\n",
    "        elif x =='1':\n",
    "            save =1\n",
    "        else : \n",
    "            if save:\n",
    "                score.append('1') \n",
    "                save = not(save)\n",
    "            score.append(x)\n",
    "    print(score)\n",
    "    num= [0,0,0]\n",
    "    index =-1\n",
    "    for x in score : \n",
    "\n",
    "        if x.isdigit():        # 숫자일떈 이롷게\n",
    "            index+=1\n",
    "            num[index] = int(x)\n",
    "            print(index,x)\n",
    "            print(num)\n",
    "        elif x.isalpha(): #알파벳 Single Double Tripple\n",
    "            #if x=='S':\n",
    "                # 1제곱 이기 때문에 그대로\n",
    "            if x=='D':\n",
    "                num[index]=pow(num[index],2)\n",
    "                print(\"pow2 는 \",num[index])\n",
    "            elif x=='T':\n",
    "                print(num[index])\n",
    "                num[index]=pow(num[index],3)\n",
    "                print(\"pow3 는 \",num[index])\n",
    "\n",
    "        else : # *,,#\n",
    "            if x =='*': #지금, 이전 *2\n",
    "                if index==0: #첫번째일떈 지금만\n",
    "                    num[index]*=2\n",
    "                else : \n",
    "                    num[index-1]*=2\n",
    "                    num[index]*=2\n",
    "            elif x =='#' : # 지금 *(-1)\n",
    "                num[index]*=(-1)\n",
    "\n",
    "    return sum(num)\n",
    "\n"
   ]
  },
  {
   "cell_type": "code",
   "execution_count": 105,
   "metadata": {},
   "outputs": [
    {
     "data": {
      "text/plain": [
       "8"
      ]
     },
     "execution_count": 105,
     "metadata": {},
     "output_type": "execute_result"
    }
   ],
   "source": [
    "pow(2,3)"
   ]
  },
  {
   "cell_type": "markdown",
   "metadata": {},
   "source": [
    "# 캐시"
   ]
  },
  {
   "cell_type": "code",
   "execution_count": 146,
   "metadata": {},
   "outputs": [],
   "source": [
    "cacheSize = 5\n",
    "cities = ['Jeju', 'Pangyo', 'Seoul', 'NewYork', 'LA', 'SanFrancisco', 'Seoul', 'Rome', 'Paris', 'Jeju', 'NewYork', 'Rome']"
   ]
  },
  {
   "cell_type": "code",
   "execution_count": 134,
   "metadata": {},
   "outputs": [
    {
     "name": "stdout",
     "output_type": "stream",
     "text": [
      "['Rome', 'NewYork', 'Jeju', 'Paris', 'Rome']\n",
      "[0, 1, 2, 3, 4]\n"
     ]
    }
   ],
   "source": [
    "cc = []\n",
    "when= []\n",
    "for k in range(cacheSize):\n",
    "    cc.append(cities.pop())\n",
    "    when.append(k)\n",
    "\n",
    "print(cc)\n",
    "print(when)"
   ]
  },
  {
   "cell_type": "code",
   "execution_count": 130,
   "metadata": {},
   "outputs": [],
   "source": [
    "\n"
   ]
  },
  {
   "cell_type": "code",
   "execution_count": 143,
   "metadata": {},
   "outputs": [
    {
     "name": "stdout",
     "output_type": "stream",
     "text": [
      "5 Jeju\n",
      "miss\n",
      "4\n",
      "['SanFrancisco', 'Seoul', 'Seoul', 'SanFrancisco', 'Jeju']\n",
      "[10, 11, 11, 10, 5]\n",
      "6 Pangyo\n",
      "miss\n",
      "4\n",
      "['SanFrancisco', 'Seoul', 'Seoul', 'SanFrancisco', 'Pangyo']\n",
      "[10, 11, 11, 10, 6]\n",
      "7 Seoul\n",
      "miss\n",
      "4\n",
      "['SanFrancisco', 'Seoul', 'Seoul', 'SanFrancisco', 'Seoul']\n",
      "[10, 11, 11, 10, 7]\n",
      "8 NewYork\n",
      "miss\n",
      "4\n",
      "['SanFrancisco', 'Seoul', 'Seoul', 'SanFrancisco', 'NewYork']\n",
      "[10, 11, 11, 10, 8]\n",
      "9 LA\n",
      "miss\n",
      "4\n",
      "['SanFrancisco', 'Seoul', 'Seoul', 'SanFrancisco', 'LA']\n",
      "[10, 11, 11, 10, 9]\n",
      "10 SanFrancisco\n",
      "miss\n",
      "4\n",
      "['SanFrancisco', 'Seoul', 'Seoul', 'SanFrancisco', 'SanFrancisco']\n",
      "[10, 11, 11, 10, 10]\n",
      "11 Seoul\n",
      "miss\n",
      "0\n",
      "['Seoul', 'Seoul', 'Seoul', 'SanFrancisco', 'SanFrancisco']\n",
      "[11, 11, 11, 10, 10]\n",
      "60\n"
     ]
    }
   ],
   "source": [
    "answer = 0\n",
    "\n",
    "cc = []\n",
    "when= []\n",
    "for k in range(cacheSize):\n",
    "    cc.append(cities.pop())\n",
    "    when.append(k)\n",
    "\n",
    "print(cc)\n",
    "print(when)\n",
    "\n",
    "for i,city in enumerate(cities):\n",
    "    print(i+cacheSize,city)\n",
    "    if city in when:\n",
    "        print('hit')\n",
    "        answer+=1\n",
    "        \n",
    "        \n",
    "    else :\n",
    "        print('miss')\n",
    "        answer+=5\n",
    "        print(when.index(min(when)))\n",
    "        cc[when.index(min(when))] =city\n",
    "        when[when.index(min(when))] =i+cacheSize \n",
    "    \n",
    "    print(cc)\n",
    "    print(when)\n",
    "print(answer+5*cacheSize)\n",
    "        "
   ]
  },
  {
   "cell_type": "code",
   "execution_count": 172,
   "metadata": {},
   "outputs": [],
   "source": [
    "def solution(cacheSize, cities):\n",
    "    answer = 0\n",
    "    cities = [x.lower() for x in cities]\n",
    "    cc = [0 for _ in range(cacheSize)]\n",
    "    when= [-1 for i in range(cacheSize)]\n",
    "\n",
    "\n",
    "    for i,city in enumerate(cities):\n",
    "        print('***************************')\n",
    "        print(i,city)\n",
    "        if city in cc:\n",
    "            print('hit')\n",
    "            answer+=1\n",
    "            when[cc.index(city)] =i\n",
    "            \n",
    "\n",
    "\n",
    "        else :\n",
    "            print('miss')\n",
    "            answer+=5\n",
    "            print(when.index(min(when)))\n",
    "            cc[when.index(min(when))] =city\n",
    "            when[when.index(min(when))] =i\n",
    "        print()\n",
    "        print(cc)\n",
    "        print(when)\n",
    "    print(answer)\n",
    "    return answer"
   ]
  },
  {
   "cell_type": "code",
   "execution_count": 173,
   "metadata": {},
   "outputs": [
    {
     "name": "stdout",
     "output_type": "stream",
     "text": [
      "***************************\n",
      "0 jeju\n",
      "miss\n",
      "0\n",
      "\n",
      "['jeju', 0]\n",
      "[0, -1]\n",
      "***************************\n",
      "1 pangyo\n",
      "miss\n",
      "1\n",
      "\n",
      "['jeju', 'pangyo']\n",
      "[0, 1]\n",
      "***************************\n",
      "2 newyork\n",
      "miss\n",
      "0\n",
      "\n",
      "['newyork', 'pangyo']\n",
      "[2, 1]\n",
      "***************************\n",
      "3 newyork\n",
      "hit\n",
      "\n",
      "['newyork', 'pangyo']\n",
      "[3, 1]\n",
      "16\n"
     ]
    },
    {
     "data": {
      "text/plain": [
       "16"
      ]
     },
     "execution_count": 173,
     "metadata": {},
     "output_type": "execute_result"
    }
   ],
   "source": [
    "solution(2,[\"Jeju\", \"Pangyo\", \"NewYork\", \"newyork\"])"
   ]
  },
  {
   "cell_type": "code",
   "execution_count": 169,
   "metadata": {
    "scrolled": false
   },
   "outputs": [
    {
     "name": "stdout",
     "output_type": "stream",
     "text": [
      "***************************\n",
      "0 Jeju\n",
      "miss\n",
      "0\n",
      "\n",
      "['Jeju', 0, 0, 0, 0]\n",
      "[0, -1, -1, -1, -1]\n",
      "***************************\n",
      "1 Pangyo\n",
      "miss\n",
      "1\n",
      "\n",
      "['Jeju', 'Pangyo', 0, 0, 0]\n",
      "[0, 1, -1, -1, -1]\n",
      "***************************\n",
      "2 Seoul\n",
      "miss\n",
      "2\n",
      "\n",
      "['Jeju', 'Pangyo', 'Seoul', 0, 0]\n",
      "[0, 1, 2, -1, -1]\n",
      "***************************\n",
      "3 NewYork\n",
      "miss\n",
      "3\n",
      "\n",
      "['Jeju', 'Pangyo', 'Seoul', 'NewYork', 0]\n",
      "[0, 1, 2, 3, -1]\n",
      "***************************\n",
      "4 LA\n",
      "miss\n",
      "4\n",
      "\n",
      "['Jeju', 'Pangyo', 'Seoul', 'NewYork', 'LA']\n",
      "[0, 1, 2, 3, 4]\n",
      "***************************\n",
      "5 SanFrancisco\n",
      "miss\n",
      "0\n",
      "\n",
      "['SanFrancisco', 'Pangyo', 'Seoul', 'NewYork', 'LA']\n",
      "[5, 1, 2, 3, 4]\n",
      "***************************\n",
      "6 Seoul\n",
      "hit\n",
      "\n",
      "['SanFrancisco', 'Pangyo', 'Seoul', 'NewYork', 'LA']\n",
      "[5, 1, 6, 3, 4]\n",
      "***************************\n",
      "7 Rome\n",
      "miss\n",
      "1\n",
      "\n",
      "['SanFrancisco', 'Rome', 'Seoul', 'NewYork', 'LA']\n",
      "[5, 7, 6, 3, 4]\n",
      "***************************\n",
      "8 Paris\n",
      "miss\n",
      "3\n",
      "\n",
      "['SanFrancisco', 'Rome', 'Seoul', 'Paris', 'LA']\n",
      "[5, 7, 6, 8, 4]\n",
      "***************************\n",
      "9 Jeju\n",
      "miss\n",
      "4\n",
      "\n",
      "['SanFrancisco', 'Rome', 'Seoul', 'Paris', 'Jeju']\n",
      "[5, 7, 6, 8, 9]\n",
      "***************************\n",
      "10 NewYork\n",
      "miss\n",
      "0\n",
      "\n",
      "['NewYork', 'Rome', 'Seoul', 'Paris', 'Jeju']\n",
      "[10, 7, 6, 8, 9]\n",
      "***************************\n",
      "11 Rome\n",
      "hit\n",
      "\n",
      "['NewYork', 'Rome', 'Seoul', 'Paris', 'Jeju']\n",
      "[10, 11, 6, 8, 9]\n",
      "52\n"
     ]
    }
   ],
   "source": [
    "solution(cacheSize, cities)"
   ]
  },
  {
   "cell_type": "code",
   "execution_count": 170,
   "metadata": {
    "scrolled": true
   },
   "outputs": [
    {
     "name": "stdout",
     "output_type": "stream",
     "text": [
      "***************************\n",
      "0 Jeju\n",
      "miss\n",
      "0\n",
      "\n",
      "['Jeju', 0, 0]\n",
      "[0, -1, -1]\n",
      "***************************\n",
      "1 Pangyo\n",
      "miss\n",
      "1\n",
      "\n",
      "['Jeju', 'Pangyo', 0]\n",
      "[0, 1, -1]\n",
      "***************************\n",
      "2 Seoul\n",
      "miss\n",
      "2\n",
      "\n",
      "['Jeju', 'Pangyo', 'Seoul']\n",
      "[0, 1, 2]\n",
      "***************************\n",
      "3 Jeju\n",
      "hit\n",
      "\n",
      "['Jeju', 'Pangyo', 'Seoul']\n",
      "[3, 1, 2]\n",
      "***************************\n",
      "4 Pangyo\n",
      "hit\n",
      "\n",
      "['Jeju', 'Pangyo', 'Seoul']\n",
      "[3, 4, 2]\n",
      "***************************\n",
      "5 Seoul\n",
      "hit\n",
      "\n",
      "['Jeju', 'Pangyo', 'Seoul']\n",
      "[3, 4, 5]\n",
      "***************************\n",
      "6 Jeju\n",
      "hit\n",
      "\n",
      "['Jeju', 'Pangyo', 'Seoul']\n",
      "[6, 4, 5]\n",
      "***************************\n",
      "7 Pangyo\n",
      "hit\n",
      "\n",
      "['Jeju', 'Pangyo', 'Seoul']\n",
      "[6, 7, 5]\n",
      "***************************\n",
      "8 Seoul\n",
      "hit\n",
      "\n",
      "['Jeju', 'Pangyo', 'Seoul']\n",
      "[6, 7, 8]\n",
      "21\n"
     ]
    }
   ],
   "source": [
    "solution(3, [\"Jeju\", \"Pangyo\", \"Seoul\", \"Jeju\", \"Pangyo\", \"Seoul\", \"Jeju\", \"Pangyo\", \"Seoul\"])"
   ]
  },
  {
   "cell_type": "code",
   "execution_count": null,
   "metadata": {},
   "outputs": [],
   "source": [
    "#정답\n",
    "def solution(cacheSize, cities):\n",
    "    answer = 0\n",
    "    #예외처리 cache 사이즈 0일때 (min() 함수 썼기떄문에 따로 처리)\n",
    "    if cacheSize==0:\n",
    "        return len(cities)*5\n",
    "    \n",
    "    cities = [x.lower() for x in cities]\n",
    "    cc = [0 for _ in range(cacheSize)]\n",
    "    when= [-1 for i in range(cacheSize)]\n",
    "\n",
    "    for i,city in enumerate(cities):\n",
    "        if city in cc:\n",
    "            answer+=1\n",
    "            when[cc.index(city)] =i            \n",
    "\n",
    "        else :\n",
    "            answer+=5\n",
    "            cc[when.index(min(when))] =city\n",
    "            when[when.index(min(when))] =i\n",
    "    return answer"
   ]
  },
  {
   "cell_type": "markdown",
   "metadata": {},
   "source": [
    "# 셔틀버스"
   ]
  },
  {
   "cell_type": "code",
   "execution_count": 2,
   "metadata": {
    "scrolled": true
   },
   "outputs": [
    {
     "data": {
      "text/plain": [
       "0"
      ]
     },
     "execution_count": 2,
     "metadata": {},
     "output_type": "execute_result"
    }
   ],
   "source": [
    "solution(10, 60, 45, [\"23:59\", \"23:59\", \"23:59\", \"23:59\", \"23:59\", \"23:59\", \"23:59\", \"23:59\", \"23:59\", \"23:59\", \"23:59\", \"23:59\", \"23:59\", \"23:59\", \"23:59\", \"23:59\"])"
   ]
  },
  {
   "cell_type": "code",
   "execution_count": 32,
   "metadata": {},
   "outputs": [
    {
     "name": "stdout",
     "output_type": "stream",
     "text": [
      "[480, 481, 482, 483]\n"
     ]
    },
    {
     "data": {
      "text/plain": [
       "'09:00'"
      ]
     },
     "execution_count": 32,
     "metadata": {},
     "output_type": "execute_result"
    }
   ],
   "source": [
    "solution(1, 1, 5, [\"08:00\", \"08:01\", \"08:02\", \"08:03\"])"
   ]
  },
  {
   "cell_type": "code",
   "execution_count": 30,
   "metadata": {},
   "outputs": [],
   "source": [
    "def changeTime(timetable):\n",
    "    li = []\n",
    "    for x in timetable:\n",
    "        x,y = x.split(':')\n",
    "        li.append(int(x)*60+int(y))\n",
    "    return li"
   ]
  },
  {
   "cell_type": "code",
   "execution_count": 33,
   "metadata": {},
   "outputs": [],
   "source": [
    "def solution(n, t, m, timetable):\n",
    "    answer = 0\n",
    "    last = []\n",
    "    time = 540 # 9:00 *60\n",
    "    \n",
    "    # newtable은 분단위로 sorting 된 \n",
    "    newtable = changeTime(timetable)\n",
    "    newtable.sort()\n",
    "    \n",
    "    print(newtable)\n",
    "    \n",
    "    for x in range(n) :            \n",
    "        time = 540+ x*t\n",
    "        if x==n-1:\n",
    "            for i in range(m):\n",
    "                if len(newtable)!=0 and time>=newtable[0]:\n",
    "                    last.append(newtable.pop())\n",
    "            if len(last)==m: # 만약 마지막 버스가 꽉찼다면\n",
    "                con = last[m-1]-1\n",
    "            else:\n",
    "                con = time\n",
    "\n",
    "        else:\n",
    "            for i in range(m):\n",
    "                if time>=newtable[0]:\n",
    "                    newtable.pop()\n",
    "                else:\n",
    "                    break\n",
    "       \n",
    "        H = con//60\n",
    "        M = con%60\n",
    "        if H<10:\n",
    "            H = '0'+str(H)\n",
    "        else:\n",
    "            H = str(H)\n",
    "            \n",
    "        if M<10:\n",
    "            M = '0'+str(M)\n",
    "        else:\n",
    "            M = str(M)\n",
    "            \n",
    "        answer = H+':'+M\n",
    "    \n",
    "    return answer"
   ]
  },
  {
   "cell_type": "code",
   "execution_count": null,
   "metadata": {},
   "outputs": [],
   "source": [
    "# 정답\n",
    "\n",
    "def changeTime(timetable):\n",
    "    li = []\n",
    "    for x in timetable:\n",
    "        x,y = x.split(':')\n",
    "        li.append(int(x)*60+int(y))\n",
    "    return li\n",
    "def solution(n, t, m, timetable):\n",
    "    answer = 0\n",
    "    last = []\n",
    "    time = 540 # 9:00 *60\n",
    "    \n",
    "    # newtable은 분단위로 sorting 된 \n",
    "    newtable = changeTime(timetable)\n",
    "    newtable.sort()\n",
    "    \n",
    "    for x in range(n) :            \n",
    "        time = 540+ x*t\n",
    "        if x==n-1: # 머지막 버스\n",
    "            for i in range(m):\n",
    "                if len(newtable)is not 0 and time>=newtable[0]:\n",
    "                    last.append(newtable.pop(0))\n",
    "\n",
    "        else:\n",
    "            for i in range(m):\n",
    "                if time>=newtable[0]:\n",
    "                    newtable.pop(0)\n",
    "                else:\n",
    "                    break\n",
    "\n",
    "    print(last)\n",
    "    if len(last)==m: # 만약 마지막 버스가 꽉찼다면\n",
    "        con = last[m-1]-1\n",
    "    else:\n",
    "        con = time\n",
    "    H = con//60\n",
    "    M = con%60\n",
    "    if H<10:\n",
    "        H = '0'+str(H)\n",
    "    else:\n",
    "        H = str(H)\n",
    "            \n",
    "    if M<10:\n",
    "        M = '0'+str(M)\n",
    "    else:\n",
    "        M = str(M)\n",
    "            \n",
    "    \n",
    "    return H+':'+M"
   ]
  },
  {
   "cell_type": "code",
   "execution_count": null,
   "metadata": {},
   "outputs": [],
   "source": [
    "\n",
    "\n",
    "\n"
   ]
  }
 ],
 "metadata": {
  "kernelspec": {
   "display_name": "Python 3",
   "language": "python",
   "name": "python3"
  },
  "language_info": {
   "codemirror_mode": {
    "name": "ipython",
    "version": 3
   },
   "file_extension": ".py",
   "mimetype": "text/x-python",
   "name": "python",
   "nbconvert_exporter": "python",
   "pygments_lexer": "ipython3",
   "version": "3.6.5"
  }
 },
 "nbformat": 4,
 "nbformat_minor": 2
}

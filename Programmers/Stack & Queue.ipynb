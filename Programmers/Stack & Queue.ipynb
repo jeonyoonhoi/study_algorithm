{
 "cells": [
  {
   "cell_type": "markdown",
   "metadata": {},
   "source": [
    "# Stack & Queue\n",
    "- 19/01/08 (화) "
   ]
  },
  {
   "cell_type": "code",
   "execution_count": 1,
   "metadata": {},
   "outputs": [],
   "source": [
    "def solution(arrangement):\n",
    "    answer = 0\n",
    "    status = False #when after pop '(':True ')' : False\n",
    "    # <> 가 연달아 나와야 절단이기 때문에\n",
    "    # < True 일 때 절단! > 뒤에 > 가 나오는것은 절단은 아니고 끝 (False)\n",
    "\n",
    "    stack = []\n",
    "    score = 0\n",
    "\n",
    "    for x in arrangement :\n",
    "        \n",
    "        if x == '(':\n",
    "            stack.append(x)\n",
    "            status = True\n",
    "        else : #x==')'\n",
    "            stack.pop()\n",
    "            if status ==True :\n",
    "                score=score+len(stack)\n",
    "            else :\n",
    "                score = score+1\n",
    "            status=False\n",
    "\n",
    "    answer = score\n",
    "    return answer\n"
   ]
  },
  {
   "cell_type": "markdown",
   "metadata": {},
   "source": [
    "* 프린터"
   ]
  },
  {
   "cell_type": "code",
   "execution_count": 2,
   "metadata": {},
   "outputs": [],
   "source": [
    "def solution(priorities, location):\n",
    "    answer = 0\n",
    "    flag = True\n",
    "    while(1): # 다 끝날때 까지 반복\n",
    "        \n",
    "        temp = priorities.pop(0) #맨 앞의 문서를 꺼내고 리스트에서지움\n",
    "        \n",
    "        #for 문에서는  더 큰수가 있는지 확인한다\n",
    "        for x in priorities:            \n",
    "            if temp<x: # 더 큰 수가 존재할 경우\n",
    "                flag = True\n",
    "                break #for 문 빠져나간다. \n",
    "            else : \n",
    "                flag = False\n",
    "        \n",
    "        #확인한 결과 더 큰수였을 때 / 다시 넣어야 할때\n",
    "        if flag ==False : # 더 큰수가 존재하지 않고 (제거)            \n",
    "            answer = answer +1 # 일단 프린트 되었으니 프린트개수 추가\n",
    "            if location ==0 : # J의 맨 앞에 있었다면\n",
    "                break # while 문을 져나간다.\n",
    "            else : # 내가 원하는 문서가 맨앞은 아니었다 \n",
    "                location= location-1 # location은 무조건 앞으로 한 발자국 나오게 된다. \n",
    "                \n",
    "        else : # flag가 True 라서 다시 넣어야 함\n",
    "            priorities.append(temp) \n",
    "            if location ==0: \n",
    "                location = len(priorities) -1\n",
    "            else:\n",
    "                location= location-1 # location은 무조건 앞으로 한 발자국 나오게 된다. \n",
    "\n",
    "\n",
    "    return answer"
   ]
  },
  {
   "cell_type": "markdown",
   "metadata": {},
   "source": [
    "###  다리를 지나는 트럭\n",
    "- while 문을 시간만큼 돌아야 하는가?\n",
    "- 들어오는 순간과 나가는 순간 \n",
    "- "
   ]
  },
  {
   "cell_type": "code",
   "execution_count": 12,
   "metadata": {},
   "outputs": [],
   "source": [
    "def solution(bridge_length, weight, truck_weights):\n",
    "    answer = 0\n",
    "    bridge=[]\n",
    "    for _ in range(bridge_length):\n",
    "        bridge.append(0)\n",
    "        # 다리 만들어 준다. \n",
    "        \n",
    "        \n",
    "    while True:\n",
    "        answer+=1\n",
    "        bridge.pop(0)\n",
    "        if (sum(bridge) + truck_weights[0]) > weight :\n",
    "            bridge.append(0)\n",
    "        else : \n",
    "            bridge.append(truck_weights.pop(0))            \n",
    "            \n",
    "            if sum(truck_weights)==0 :\n",
    "                #만약 대기 트럭이 다 빠졌다면!\n",
    "                answer +=bridge_length\n",
    "                break # while 문을 나가자\n",
    "                \n",
    "    return answer       \n"
   ]
  },
  {
   "cell_type": "code",
   "execution_count": 16,
   "metadata": {
    "scrolled": false
   },
   "outputs": [
    {
     "name": "stdout",
     "output_type": "stream",
     "text": [
      "[0]\n",
      "[0, 0]\n",
      "[0]\n",
      "7\n",
      "[4]\n",
      "5\n",
      "3\n"
     ]
    }
   ],
   "source": [
    "bridge_length = 2\n",
    "truck_weights = [7,4,5,6]\n",
    "weight = 10\n",
    "answer = 0\n",
    "bridge=[]\n",
    "for _ in range(bridge_length):\n",
    "    bridge.append(0)\n",
    "        # 다리 만들어 준다. \n",
    "    print(bridge)\n",
    "        \n",
    "while True:\n",
    "    answer+=1\n",
    "    bridge.pop(0)\n",
    "    print(bridge)\n",
    "    if (sum(bridge) + truck_weights[0]) > weight :\n",
    "        bridge.append(0)\n",
    "    else : \n",
    "        print(truck_weights.pop(0))\n",
    "        bridge.append(truck_weights.pop(0))            \n",
    "        if sum(truck_weights)==0 :\n",
    "            #만약 대기 트럭이 다 빠졌다면!\n",
    "            answer +=bridge_length\n",
    "            break # while 문을 나가자\n",
    "\n",
    "            \n",
    "print(answer)"
   ]
  },
  {
   "cell_type": "markdown",
   "metadata": {},
   "source": [
    "### 기능개발\n",
    "- ceil 안쓰려면?\n",
    "- 나머지가 0이면/ 정수\n",
    "- 나머지가 0이아니면/ int() +1"
   ]
  },
  {
   "cell_type": "code",
   "execution_count": 52,
   "metadata": {},
   "outputs": [],
   "source": [
    "import math\n",
    "def solution(pro, spd):\n",
    "    answer = []\n",
    "    time = []\n",
    "    for x,y in zip(pro,spd):\n",
    "        time.append(math.ceil((100-x)/y)) \n",
    "        print(time)\n",
    "\n",
    "    max = 0\n",
    "    while True:\n",
    "        if len(time)==0:\n",
    "            break\n",
    "        if time[0]>max :\n",
    "            max = time.pop(0)\n",
    "        else : \n",
    "            time.pop(0)\n",
    "        temp = 1\n",
    "        while True :\n",
    "            if len(time) ==0:\n",
    "                break\n",
    "\n",
    "            if time[0]<=max:\n",
    "                temp+=1\n",
    "                time.pop(0)\n",
    "            else:\n",
    "                print(time)\n",
    "                break #for문 나가기    \n",
    "        answer.append(temp)\n",
    "    \n",
    "    return answer"
   ]
  },
  {
   "cell_type": "code",
   "execution_count": 89,
   "metadata": {},
   "outputs": [
    {
     "name": "stdout",
     "output_type": "stream",
     "text": [
      "[8, 8, 12, 7, 12, 12, 0]\n",
      "time [8, 8, 12, 7, 12, 12, 0]\n",
      "max 8\n",
      "[12, 7, 12, 12, 0]\n",
      "2 추가\n",
      "time [12, 7, 12, 12, 0]\n",
      "max 12\n",
      "5 추가\n",
      "time []\n",
      "[2, 5]\n"
     ]
    }
   ],
   "source": [
    "import math \n",
    "answer = []\n",
    "pro = [20, 30, 40, 30, 65, 10,100]\n",
    "spd = [10, 9, 5, 10, 3, 8,1]\n",
    "\n",
    "\n",
    "time = []\n",
    "for x,y in zip(pro,spd):\n",
    "    time.append(math.ceil((100-x)/y)) \n",
    "print(time)\n",
    "    \n",
    "max = 0\n",
    "while True:\n",
    "    print('time',time)\n",
    "    if len(time)==0:\n",
    "        break\n",
    "    max = time.pop(0)\n",
    "    \n",
    "    \n",
    "    if len(time)==0:\n",
    "        break\n",
    "    if time[0]>max :\n",
    "        max = time.pop(0)\n",
    "    \n",
    "    print('max',max)\n",
    "    temp = 1\n",
    "    while True :\n",
    "        if len(time) ==0:\n",
    "            break\n",
    "            \n",
    "        if time[0]<=max:\n",
    "            temp+=1\n",
    "            time.pop(0)\n",
    "        else:\n",
    "            print(time)\n",
    "            break #for문 나가기    \n",
    "    answer.append(temp)\n",
    "    print(temp,'추가')\n",
    "            \n",
    "print(answer)"
   ]
  },
  {
   "cell_type": "markdown",
   "metadata": {},
   "source": [
    "### 탑\n",
    "- stack을 만들고\n",
    "- 하나씩 stack의 top하고 비교해서 작으면 pop해주고 내꺼를 넣는다.\n",
    "- 비교해서 크면 그냥 넣어준다. "
   ]
  },
  {
   "cell_type": "code",
   "execution_count": 56,
   "metadata": {},
   "outputs": [],
   "source": [
    "def solution(heights):\n",
    "    answer = []\n",
    "    \n",
    "    for i in range(len(heights)):\n",
    "        from_hights = heights[i]\n",
    "        to_num=0\n",
    "\n",
    "        for j in range(i-1,-1,-1):\n",
    "            if heights[i]<heights[j]:\n",
    "                to_num=j+1\n",
    "                break\n",
    "\n",
    "\n",
    "        answer.append(to_num)\n",
    "    \n",
    "    return answer"
   ]
  },
  {
   "cell_type": "code",
   "execution_count": 57,
   "metadata": {},
   "outputs": [
    {
     "name": "stdout",
     "output_type": "stream",
     "text": [
      "[8, 8, 12, 7, 12, 12, 0]\n",
      "time [8, 8, 12, 7, 12, 12, 0]\n",
      "max 8\n",
      "[12, 7, 12, 12, 0]\n",
      "2 추가\n",
      "time [12, 7, 12, 12, 0]\n",
      "max 12\n",
      "5 추가\n",
      "time []\n",
      "[2, 5]\n"
     ]
    }
   ],
   "source": [
    "import math \n",
    "answer = []\n",
    "pro = [20, 30, 40, 30, 65, 10,100]\n",
    "spd = [10, 9, 5, 10, 3, 8,1]\n",
    "\n",
    "\n",
    "time = []\n",
    "for x,y in zip(pro,spd):\n",
    "    time.append(math.ceil((100-x)/y)) \n",
    "print(time)\n",
    "    \n",
    "max = 0\n",
    "while True:\n",
    "    print('time',time)\n",
    "    if len(time)==0:\n",
    "        break\n",
    "    max = time.pop(0)\n",
    "    \n",
    "    \n",
    "    if len(time)==0:\n",
    "        break\n",
    "    if time[0]>max :\n",
    "        max = time.pop(0)\n",
    "    \n",
    "    print('max',max)\n",
    "    temp = 1\n",
    "    while True :\n",
    "        if len(time) ==0:\n",
    "            break\n",
    "            \n",
    "        if time[0]<=max:\n",
    "            temp+=1\n",
    "            time.pop(0)\n",
    "        else:\n",
    "            print(time)\n",
    "            break #for문 나가기    \n",
    "    answer.append(temp)\n",
    "    print(temp,'추가')\n",
    "            \n",
    "print(answer)"
   ]
  },
  {
   "cell_type": "markdown",
   "metadata": {},
   "source": [
    "* 주식가격"
   ]
  },
  {
   "cell_type": "code",
   "execution_count": 65,
   "metadata": {},
   "outputs": [],
   "source": [
    "def solution(prices):\n",
    "    answer = []\n",
    "    \n",
    "\n",
    "\n",
    "    for i in range(len(prices)):\n",
    "        top = prices[i]\n",
    "        time =0\n",
    "        for j in range(i,len(prices)-1):\n",
    "            if top>prices[j] :\n",
    "                break\n",
    "            else :\n",
    "                top = prices[j]\n",
    "                time+=1\n",
    "        answer.append(time)\n",
    "\n",
    "    return answer"
   ]
  },
  {
   "cell_type": "code",
   "execution_count": 88,
   "metadata": {},
   "outputs": [
    {
     "ename": "KeyboardInterrupt",
     "evalue": "",
     "output_type": "error",
     "traceback": [
      "\u001b[1;31m---------------------------------------------------------------------------\u001b[0m",
      "\u001b[1;31mKeyboardInterrupt\u001b[0m                         Traceback (most recent call last)",
      "\u001b[1;32m<ipython-input-88-37b637f4a7d8>\u001b[0m in \u001b[0;36m<module>\u001b[1;34m()\u001b[0m\n\u001b[0;32m      5\u001b[0m     \u001b[1;32mfor\u001b[0m \u001b[0mi\u001b[0m \u001b[1;32min\u001b[0m \u001b[0mrange\u001b[0m\u001b[1;33m(\u001b[0m\u001b[0mlen\u001b[0m\u001b[1;33m(\u001b[0m\u001b[0mprices\u001b[0m\u001b[1;33m)\u001b[0m\u001b[1;33m)\u001b[0m\u001b[1;33m:\u001b[0m\u001b[1;33m\u001b[0m\u001b[0m\n\u001b[0;32m      6\u001b[0m \u001b[1;33m\u001b[0m\u001b[0m\n\u001b[1;32m----> 7\u001b[1;33m         \u001b[1;32mif\u001b[0m \u001b[1;33m(\u001b[0m\u001b[0mi\u001b[0m\u001b[1;33m==\u001b[0m\u001b[1;33m(\u001b[0m\u001b[0mlen\u001b[0m\u001b[1;33m(\u001b[0m\u001b[0mprices\u001b[0m\u001b[1;33m)\u001b[0m\u001b[1;33m-\u001b[0m\u001b[1;36m1\u001b[0m\u001b[1;33m)\u001b[0m \u001b[1;33m|\u001b[0m \u001b[0mprices\u001b[0m\u001b[1;33m[\u001b[0m\u001b[0mi\u001b[0m\u001b[1;33m]\u001b[0m\u001b[1;33m>\u001b[0m\u001b[0mprices\u001b[0m\u001b[1;33m[\u001b[0m\u001b[0mi\u001b[0m\u001b[1;33m+\u001b[0m\u001b[1;36m1\u001b[0m\u001b[1;33m]\u001b[0m\u001b[1;33m)\u001b[0m\u001b[1;33m:\u001b[0m\u001b[1;33m\u001b[0m\u001b[0m\n\u001b[0m\u001b[0;32m      8\u001b[0m             \u001b[1;32mbreak\u001b[0m\u001b[1;33m\u001b[0m\u001b[0m\n\u001b[0;32m      9\u001b[0m         \u001b[1;32melse\u001b[0m \u001b[1;33m:\u001b[0m\u001b[1;33m\u001b[0m\u001b[0m\n",
      "\u001b[1;31mKeyboardInterrupt\u001b[0m: "
     ]
    }
   ],
   "source": [
    "answer = []\n",
    "prices=[5,4,3,4,5,6,3]#[498,501,470,489,488]\n",
    "\n",
    "for i in range(len(prices)):\n",
    "\n",
    "        if (i==(len(prices)-1) | prices[i]>prices[i+1]):\n",
    "            break        \n",
    "        else : \n",
    "            stack.append(i)\n",
    "    \n",
    "for k in range(len(stack),0,-1):\n",
    "    answer.append(k)\n",
    "    \n",
    "print(answer)"
   ]
  },
  {
   "cell_type": "code",
   "execution_count": 81,
   "metadata": {},
   "outputs": [
    {
     "ename": "IndexError",
     "evalue": "list assignment index out of range",
     "output_type": "error",
     "traceback": [
      "\u001b[1;31m---------------------------------------------------------------------------\u001b[0m",
      "\u001b[1;31mIndexError\u001b[0m                                Traceback (most recent call last)",
      "\u001b[1;32m<ipython-input-81-6cc2412deea4>\u001b[0m in \u001b[0;36m<module>\u001b[1;34m()\u001b[0m\n\u001b[0;32m      1\u001b[0m \u001b[0mli\u001b[0m \u001b[1;33m=\u001b[0m \u001b[1;33m[\u001b[0m\u001b[1;33m]\u001b[0m\u001b[1;33m\u001b[0m\u001b[0m\n\u001b[1;32m----> 2\u001b[1;33m \u001b[0mli\u001b[0m\u001b[1;33m[\u001b[0m\u001b[1;36m10\u001b[0m\u001b[1;33m]\u001b[0m\u001b[1;33m=\u001b[0m\u001b[1;36m10\u001b[0m\u001b[1;33m\u001b[0m\u001b[0m\n\u001b[0m\u001b[0;32m      3\u001b[0m \u001b[0mli\u001b[0m\u001b[1;33m\u001b[0m\u001b[0m\n",
      "\u001b[1;31mIndexError\u001b[0m: list assignment index out of range"
     ]
    }
   ],
   "source": []
  }
 ],
 "metadata": {
  "kernelspec": {
   "display_name": "Python 3",
   "language": "python",
   "name": "python3"
  },
  "language_info": {
   "codemirror_mode": {
    "name": "ipython",
    "version": 3
   },
   "file_extension": ".py",
   "mimetype": "text/x-python",
   "name": "python",
   "nbconvert_exporter": "python",
   "pygments_lexer": "ipython3",
   "version": "3.6.5"
  }
 },
 "nbformat": 4,
 "nbformat_minor": 2
}
